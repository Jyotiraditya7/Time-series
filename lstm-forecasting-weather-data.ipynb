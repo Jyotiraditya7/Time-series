{
 "cells": [
  {
   "cell_type": "code",
   "execution_count": 1,
   "id": "183cc089",
   "metadata": {
    "_cell_guid": "b1076dfc-b9ad-4769-8c92-a6c4dae69d19",
    "_uuid": "8f2839f25d086af736a60e9eeb907d3b93b6e0e5",
    "execution": {
     "iopub.execute_input": "2024-03-19T13:30:55.021245Z",
     "iopub.status.busy": "2024-03-19T13:30:55.020864Z",
     "iopub.status.idle": "2024-03-19T13:30:57.539771Z",
     "shell.execute_reply": "2024-03-19T13:30:57.538837Z"
    },
    "papermill": {
     "duration": 2.53259,
     "end_time": "2024-03-19T13:30:57.542468",
     "exception": false,
     "start_time": "2024-03-19T13:30:55.009878",
     "status": "completed"
    },
    "tags": []
   },
   "outputs": [],
   "source": [
    "import pandas as pd\n",
    "import numpy as np\n",
    "\n",
    "import matplotlib.pyplot as plt\n",
    "import seaborn as sns\n",
    "\n",
    "from sklearn.model_selection import train_test_split\n",
    "from sklearn.preprocessing import MinMaxScaler\n"
   ]
  },
  {
   "cell_type": "code",
   "execution_count": 2,
   "id": "f055c038",
   "metadata": {
    "execution": {
     "iopub.execute_input": "2024-03-19T13:30:57.561023Z",
     "iopub.status.busy": "2024-03-19T13:30:57.559567Z",
     "iopub.status.idle": "2024-03-19T13:30:57.995523Z",
     "shell.execute_reply": "2024-03-19T13:30:57.994329Z"
    },
    "papermill": {
     "duration": 0.447783,
     "end_time": "2024-03-19T13:30:57.998220",
     "exception": false,
     "start_time": "2024-03-19T13:30:57.550437",
     "status": "completed"
    },
    "tags": []
   },
   "outputs": [
    {
     "name": "stdout",
     "output_type": "stream",
     "text": [
      "100990\n"
     ]
    },
    {
     "data": {
      "text/html": [
       "<div>\n",
       "<style scoped>\n",
       "    .dataframe tbody tr th:only-of-type {\n",
       "        vertical-align: middle;\n",
       "    }\n",
       "\n",
       "    .dataframe tbody tr th {\n",
       "        vertical-align: top;\n",
       "    }\n",
       "\n",
       "    .dataframe thead th {\n",
       "        text-align: right;\n",
       "    }\n",
       "</style>\n",
       "<table border=\"1\" class=\"dataframe\">\n",
       "  <thead>\n",
       "    <tr style=\"text-align: right;\">\n",
       "      <th></th>\n",
       "      <th>datetime_utc</th>\n",
       "      <th>_conds</th>\n",
       "      <th>_dewptm</th>\n",
       "      <th>_fog</th>\n",
       "      <th>_hail</th>\n",
       "      <th>_heatindexm</th>\n",
       "      <th>_hum</th>\n",
       "      <th>_precipm</th>\n",
       "      <th>_pressurem</th>\n",
       "      <th>_rain</th>\n",
       "      <th>_snow</th>\n",
       "      <th>_tempm</th>\n",
       "      <th>_thunder</th>\n",
       "      <th>_tornado</th>\n",
       "      <th>_vism</th>\n",
       "      <th>_wdird</th>\n",
       "      <th>_wdire</th>\n",
       "      <th>_wgustm</th>\n",
       "      <th>_windchillm</th>\n",
       "      <th>_wspdm</th>\n",
       "    </tr>\n",
       "  </thead>\n",
       "  <tbody>\n",
       "    <tr>\n",
       "      <th>0</th>\n",
       "      <td>19961101-11:00</td>\n",
       "      <td>Smoke</td>\n",
       "      <td>9.0</td>\n",
       "      <td>0</td>\n",
       "      <td>0</td>\n",
       "      <td>NaN</td>\n",
       "      <td>27.0</td>\n",
       "      <td>NaN</td>\n",
       "      <td>1010.0</td>\n",
       "      <td>0</td>\n",
       "      <td>0</td>\n",
       "      <td>30.0</td>\n",
       "      <td>0</td>\n",
       "      <td>0</td>\n",
       "      <td>5.0</td>\n",
       "      <td>280.0</td>\n",
       "      <td>West</td>\n",
       "      <td>NaN</td>\n",
       "      <td>NaN</td>\n",
       "      <td>7.4</td>\n",
       "    </tr>\n",
       "    <tr>\n",
       "      <th>1</th>\n",
       "      <td>19961101-12:00</td>\n",
       "      <td>Smoke</td>\n",
       "      <td>10.0</td>\n",
       "      <td>0</td>\n",
       "      <td>0</td>\n",
       "      <td>NaN</td>\n",
       "      <td>32.0</td>\n",
       "      <td>NaN</td>\n",
       "      <td>-9999.0</td>\n",
       "      <td>0</td>\n",
       "      <td>0</td>\n",
       "      <td>28.0</td>\n",
       "      <td>0</td>\n",
       "      <td>0</td>\n",
       "      <td>NaN</td>\n",
       "      <td>0.0</td>\n",
       "      <td>North</td>\n",
       "      <td>NaN</td>\n",
       "      <td>NaN</td>\n",
       "      <td>NaN</td>\n",
       "    </tr>\n",
       "    <tr>\n",
       "      <th>2</th>\n",
       "      <td>19961101-13:00</td>\n",
       "      <td>Smoke</td>\n",
       "      <td>11.0</td>\n",
       "      <td>0</td>\n",
       "      <td>0</td>\n",
       "      <td>NaN</td>\n",
       "      <td>44.0</td>\n",
       "      <td>NaN</td>\n",
       "      <td>-9999.0</td>\n",
       "      <td>0</td>\n",
       "      <td>0</td>\n",
       "      <td>24.0</td>\n",
       "      <td>0</td>\n",
       "      <td>0</td>\n",
       "      <td>NaN</td>\n",
       "      <td>0.0</td>\n",
       "      <td>North</td>\n",
       "      <td>NaN</td>\n",
       "      <td>NaN</td>\n",
       "      <td>NaN</td>\n",
       "    </tr>\n",
       "    <tr>\n",
       "      <th>3</th>\n",
       "      <td>19961101-14:00</td>\n",
       "      <td>Smoke</td>\n",
       "      <td>10.0</td>\n",
       "      <td>0</td>\n",
       "      <td>0</td>\n",
       "      <td>NaN</td>\n",
       "      <td>41.0</td>\n",
       "      <td>NaN</td>\n",
       "      <td>1010.0</td>\n",
       "      <td>0</td>\n",
       "      <td>0</td>\n",
       "      <td>24.0</td>\n",
       "      <td>0</td>\n",
       "      <td>0</td>\n",
       "      <td>2.0</td>\n",
       "      <td>0.0</td>\n",
       "      <td>North</td>\n",
       "      <td>NaN</td>\n",
       "      <td>NaN</td>\n",
       "      <td>NaN</td>\n",
       "    </tr>\n",
       "    <tr>\n",
       "      <th>4</th>\n",
       "      <td>19961101-16:00</td>\n",
       "      <td>Smoke</td>\n",
       "      <td>11.0</td>\n",
       "      <td>0</td>\n",
       "      <td>0</td>\n",
       "      <td>NaN</td>\n",
       "      <td>47.0</td>\n",
       "      <td>NaN</td>\n",
       "      <td>1011.0</td>\n",
       "      <td>0</td>\n",
       "      <td>0</td>\n",
       "      <td>23.0</td>\n",
       "      <td>0</td>\n",
       "      <td>0</td>\n",
       "      <td>1.2</td>\n",
       "      <td>0.0</td>\n",
       "      <td>North</td>\n",
       "      <td>NaN</td>\n",
       "      <td>NaN</td>\n",
       "      <td>0.0</td>\n",
       "    </tr>\n",
       "  </tbody>\n",
       "</table>\n",
       "</div>"
      ],
      "text/plain": [
       "     datetime_utc _conds  _dewptm  _fog  _hail  _heatindexm  _hum  _precipm  \\\n",
       "0  19961101-11:00  Smoke      9.0     0      0          NaN  27.0       NaN   \n",
       "1  19961101-12:00  Smoke     10.0     0      0          NaN  32.0       NaN   \n",
       "2  19961101-13:00  Smoke     11.0     0      0          NaN  44.0       NaN   \n",
       "3  19961101-14:00  Smoke     10.0     0      0          NaN  41.0       NaN   \n",
       "4  19961101-16:00  Smoke     11.0     0      0          NaN  47.0       NaN   \n",
       "\n",
       "   _pressurem  _rain  _snow  _tempm  _thunder  _tornado  _vism  _wdird _wdire  \\\n",
       "0      1010.0      0      0    30.0         0         0    5.0   280.0   West   \n",
       "1     -9999.0      0      0    28.0         0         0    NaN     0.0  North   \n",
       "2     -9999.0      0      0    24.0         0         0    NaN     0.0  North   \n",
       "3      1010.0      0      0    24.0         0         0    2.0     0.0  North   \n",
       "4      1011.0      0      0    23.0         0         0    1.2     0.0  North   \n",
       "\n",
       "   _wgustm  _windchillm  _wspdm  \n",
       "0      NaN          NaN     7.4  \n",
       "1      NaN          NaN     NaN  \n",
       "2      NaN          NaN     NaN  \n",
       "3      NaN          NaN     NaN  \n",
       "4      NaN          NaN     0.0  "
      ]
     },
     "execution_count": 2,
     "metadata": {},
     "output_type": "execute_result"
    }
   ],
   "source": [
    "path = \"/kaggle/input/delhi-weather-data/testset.csv\"\n",
    "df = pd.read_csv(path)\n",
    "\n",
    "# remove spaces on the column\n",
    "df.columns = df.columns.str.lstrip()\n",
    "df.columns = df.columns.str.rstrip()\n",
    "\n",
    "print(len(df))\n",
    "df.head()"
   ]
  },
  {
   "cell_type": "code",
   "execution_count": 3,
   "id": "0ace40d4",
   "metadata": {
    "execution": {
     "iopub.execute_input": "2024-03-19T13:30:58.018130Z",
     "iopub.status.busy": "2024-03-19T13:30:58.017009Z",
     "iopub.status.idle": "2024-03-19T13:30:58.513660Z",
     "shell.execute_reply": "2024-03-19T13:30:58.512700Z"
    },
    "papermill": {
     "duration": 0.509448,
     "end_time": "2024-03-19T13:30:58.516038",
     "exception": false,
     "start_time": "2024-03-19T13:30:58.006590",
     "status": "completed"
    },
    "tags": []
   },
   "outputs": [
    {
     "name": "stderr",
     "output_type": "stream",
     "text": [
      "/opt/conda/lib/python3.10/site-packages/seaborn/_oldcore.py:1119: FutureWarning: use_inf_as_na option is deprecated and will be removed in a future version. Convert inf values to NaN before operating instead.\n",
      "  with pd.option_context('mode.use_inf_as_na', True):\n"
     ]
    },
    {
     "data": {
      "image/png": "[encoded data removed]",
      "text/plain": [
       "<Figure size 1500x1000 with 1 Axes>"
      ]
     },
     "metadata": {},
     "output_type": "display_data"
    }
   ],
   "source": [
    "plt.figure(figsize=(15, 10))\n",
    "sns.histplot(df['_tempm'],bins=[i for i in range(0,61,5)], kde=False)\n",
    "plt.title(\"Distribution of Temperatures\")\n",
    "plt.grid()\n",
    "plt.show()"
   ]
  },
  {
   "cell_type": "code",
   "execution_count": 4,
   "id": "9e4031b1",
   "metadata": {
    "execution": {
     "iopub.execute_input": "2024-03-19T13:30:58.536963Z",
     "iopub.status.busy": "2024-03-19T13:30:58.535877Z",
     "iopub.status.idle": "2024-03-19T13:30:59.108520Z",
     "shell.execute_reply": "2024-03-19T13:30:59.107259Z"
    },
    "papermill": {
     "duration": 0.585813,
     "end_time": "2024-03-19T13:30:59.111126",
     "exception": false,
     "start_time": "2024-03-19T13:30:58.525313",
     "status": "completed"
    },
    "tags": []
   },
   "outputs": [
    {
     "data": {
      "text/html": [
       "<div>\n",
       "<style scoped>\n",
       "    .dataframe tbody tr th:only-of-type {\n",
       "        vertical-align: middle;\n",
       "    }\n",
       "\n",
       "    .dataframe tbody tr th {\n",
       "        vertical-align: top;\n",
       "    }\n",
       "\n",
       "    .dataframe thead th {\n",
       "        text-align: right;\n",
       "    }\n",
       "</style>\n",
       "<table border=\"1\" class=\"dataframe\">\n",
       "  <thead>\n",
       "    <tr style=\"text-align: right;\">\n",
       "      <th></th>\n",
       "      <th>_dewptm</th>\n",
       "      <th>_fog</th>\n",
       "      <th>_hail</th>\n",
       "      <th>_hum</th>\n",
       "      <th>_rain</th>\n",
       "      <th>_snow</th>\n",
       "      <th>_tempm</th>\n",
       "      <th>_thunder</th>\n",
       "      <th>_tornado</th>\n",
       "    </tr>\n",
       "    <tr>\n",
       "      <th>datetime_utc</th>\n",
       "      <th></th>\n",
       "      <th></th>\n",
       "      <th></th>\n",
       "      <th></th>\n",
       "      <th></th>\n",
       "      <th></th>\n",
       "      <th></th>\n",
       "      <th></th>\n",
       "      <th></th>\n",
       "    </tr>\n",
       "  </thead>\n",
       "  <tbody>\n",
       "    <tr>\n",
       "      <th>1996-11-01 11:00:00</th>\n",
       "      <td>9.0</td>\n",
       "      <td>0</td>\n",
       "      <td>0</td>\n",
       "      <td>27.0</td>\n",
       "      <td>0</td>\n",
       "      <td>0</td>\n",
       "      <td>30.0</td>\n",
       "      <td>0</td>\n",
       "      <td>0</td>\n",
       "    </tr>\n",
       "    <tr>\n",
       "      <th>1996-11-01 12:00:00</th>\n",
       "      <td>10.0</td>\n",
       "      <td>0</td>\n",
       "      <td>0</td>\n",
       "      <td>32.0</td>\n",
       "      <td>0</td>\n",
       "      <td>0</td>\n",
       "      <td>28.0</td>\n",
       "      <td>0</td>\n",
       "      <td>0</td>\n",
       "    </tr>\n",
       "    <tr>\n",
       "      <th>1996-11-01 13:00:00</th>\n",
       "      <td>11.0</td>\n",
       "      <td>0</td>\n",
       "      <td>0</td>\n",
       "      <td>44.0</td>\n",
       "      <td>0</td>\n",
       "      <td>0</td>\n",
       "      <td>24.0</td>\n",
       "      <td>0</td>\n",
       "      <td>0</td>\n",
       "    </tr>\n",
       "    <tr>\n",
       "      <th>1996-11-01 14:00:00</th>\n",
       "      <td>10.0</td>\n",
       "      <td>0</td>\n",
       "      <td>0</td>\n",
       "      <td>41.0</td>\n",
       "      <td>0</td>\n",
       "      <td>0</td>\n",
       "      <td>24.0</td>\n",
       "      <td>0</td>\n",
       "      <td>0</td>\n",
       "    </tr>\n",
       "    <tr>\n",
       "      <th>1996-11-01 16:00:00</th>\n",
       "      <td>11.0</td>\n",
       "      <td>0</td>\n",
       "      <td>0</td>\n",
       "      <td>47.0</td>\n",
       "      <td>0</td>\n",
       "      <td>0</td>\n",
       "      <td>23.0</td>\n",
       "      <td>0</td>\n",
       "      <td>0</td>\n",
       "    </tr>\n",
       "  </tbody>\n",
       "</table>\n",
       "</div>"
      ],
      "text/plain": [
       "                     _dewptm  _fog  _hail  _hum  _rain  _snow  _tempm  \\\n",
       "datetime_utc                                                            \n",
       "1996-11-01 11:00:00      9.0     0      0  27.0      0      0    30.0   \n",
       "1996-11-01 12:00:00     10.0     0      0  32.0      0      0    28.0   \n",
       "1996-11-01 13:00:00     11.0     0      0  44.0      0      0    24.0   \n",
       "1996-11-01 14:00:00     10.0     0      0  41.0      0      0    24.0   \n",
       "1996-11-01 16:00:00     11.0     0      0  47.0      0      0    23.0   \n",
       "\n",
       "                     _thunder  _tornado  \n",
       "datetime_utc                             \n",
       "1996-11-01 11:00:00         0         0  \n",
       "1996-11-01 12:00:00         0         0  \n",
       "1996-11-01 13:00:00         0         0  \n",
       "1996-11-01 14:00:00         0         0  \n",
       "1996-11-01 16:00:00         0         0  "
      ]
     },
     "execution_count": 4,
     "metadata": {},
     "output_type": "execute_result"
    }
   ],
   "source": [
    "\n",
    "# set data index as datetime column\n",
    "df.index = pd.to_datetime(df.datetime_utc)\n",
    "\n",
    "# filter the columns by only the required_columns\n",
    "required_cols = ['_dewptm', '_fog', '_hail', '_hum', '_rain', '_snow', '_tempm', '_thunder', '_tornado']\n",
    "df = df[required_cols]\n",
    "df.head()"
   ]
  },
  {
   "cell_type": "code",
   "execution_count": 5,
   "id": "8552ca51",
   "metadata": {
    "execution": {
     "iopub.execute_input": "2024-03-19T13:30:59.132292Z",
     "iopub.status.busy": "2024-03-19T13:30:59.131540Z",
     "iopub.status.idle": "2024-03-19T13:30:59.141216Z",
     "shell.execute_reply": "2024-03-19T13:30:59.140182Z"
    },
    "papermill": {
     "duration": 0.022755,
     "end_time": "2024-03-19T13:30:59.143613",
     "exception": false,
     "start_time": "2024-03-19T13:30:59.120858",
     "status": "completed"
    },
    "tags": []
   },
   "outputs": [
    {
     "data": {
      "text/plain": [
       "_dewptm     621\n",
       "_fog          0\n",
       "_hail         0\n",
       "_hum        757\n",
       "_rain         0\n",
       "_snow         0\n",
       "_tempm      673\n",
       "_thunder      0\n",
       "_tornado      0\n",
       "dtype: int64"
      ]
     },
     "execution_count": 5,
     "metadata": {},
     "output_type": "execute_result"
    }
   ],
   "source": [
    "# check number of nan values in dataframe\n",
    "df.isna().sum()"
   ]
  },
  {
   "cell_type": "markdown",
   "id": "826d2072",
   "metadata": {
    "papermill": {
     "duration": 0.009158,
     "end_time": "2024-03-19T13:30:59.162336",
     "exception": false,
     "start_time": "2024-03-19T13:30:59.153178",
     "status": "completed"
    },
    "tags": []
   },
   "source": [
    "\n",
    "df = df.fillna(method='ffill')\n",
    "df.tail()"
   ]
  },
  {
   "cell_type": "code",
   "execution_count": 6,
   "id": "7d1b415d",
   "metadata": {
    "execution": {
     "iopub.execute_input": "2024-03-19T13:30:59.183797Z",
     "iopub.status.busy": "2024-03-19T13:30:59.183412Z",
     "iopub.status.idle": "2024-03-19T13:30:59.204851Z",
     "shell.execute_reply": "2024-03-19T13:30:59.203691Z"
    },
    "papermill": {
     "duration": 0.035632,
     "end_time": "2024-03-19T13:30:59.207419",
     "exception": false,
     "start_time": "2024-03-19T13:30:59.171787",
     "status": "completed"
    },
    "tags": []
   },
   "outputs": [
    {
     "data": {
      "text/html": [
       "<div>\n",
       "<style scoped>\n",
       "    .dataframe tbody tr th:only-of-type {\n",
       "        vertical-align: middle;\n",
       "    }\n",
       "\n",
       "    .dataframe tbody tr th {\n",
       "        vertical-align: top;\n",
       "    }\n",
       "\n",
       "    .dataframe thead th {\n",
       "        text-align: right;\n",
       "    }\n",
       "</style>\n",
       "<table border=\"1\" class=\"dataframe\">\n",
       "  <thead>\n",
       "    <tr style=\"text-align: right;\">\n",
       "      <th></th>\n",
       "      <th>_dewptm</th>\n",
       "      <th>_fog</th>\n",
       "      <th>_hail</th>\n",
       "      <th>_hum</th>\n",
       "      <th>_rain</th>\n",
       "      <th>_snow</th>\n",
       "      <th>_tempm</th>\n",
       "      <th>_thunder</th>\n",
       "      <th>_tornado</th>\n",
       "    </tr>\n",
       "    <tr>\n",
       "      <th>datetime_utc</th>\n",
       "      <th></th>\n",
       "      <th></th>\n",
       "      <th></th>\n",
       "      <th></th>\n",
       "      <th></th>\n",
       "      <th></th>\n",
       "      <th></th>\n",
       "      <th></th>\n",
       "      <th></th>\n",
       "    </tr>\n",
       "  </thead>\n",
       "  <tbody>\n",
       "    <tr>\n",
       "      <th>1996-11-01 11:00:00</th>\n",
       "      <td>9.0</td>\n",
       "      <td>0</td>\n",
       "      <td>0</td>\n",
       "      <td>27.0</td>\n",
       "      <td>0</td>\n",
       "      <td>0</td>\n",
       "      <td>30.0</td>\n",
       "      <td>0</td>\n",
       "      <td>0</td>\n",
       "    </tr>\n",
       "    <tr>\n",
       "      <th>1996-11-01 12:00:00</th>\n",
       "      <td>10.0</td>\n",
       "      <td>0</td>\n",
       "      <td>0</td>\n",
       "      <td>32.0</td>\n",
       "      <td>0</td>\n",
       "      <td>0</td>\n",
       "      <td>28.0</td>\n",
       "      <td>0</td>\n",
       "      <td>0</td>\n",
       "    </tr>\n",
       "    <tr>\n",
       "      <th>1996-11-01 13:00:00</th>\n",
       "      <td>11.0</td>\n",
       "      <td>0</td>\n",
       "      <td>0</td>\n",
       "      <td>44.0</td>\n",
       "      <td>0</td>\n",
       "      <td>0</td>\n",
       "      <td>24.0</td>\n",
       "      <td>0</td>\n",
       "      <td>0</td>\n",
       "    </tr>\n",
       "    <tr>\n",
       "      <th>1996-11-01 14:00:00</th>\n",
       "      <td>10.0</td>\n",
       "      <td>0</td>\n",
       "      <td>0</td>\n",
       "      <td>41.0</td>\n",
       "      <td>0</td>\n",
       "      <td>0</td>\n",
       "      <td>24.0</td>\n",
       "      <td>0</td>\n",
       "      <td>0</td>\n",
       "    </tr>\n",
       "    <tr>\n",
       "      <th>1996-11-01 16:00:00</th>\n",
       "      <td>11.0</td>\n",
       "      <td>0</td>\n",
       "      <td>0</td>\n",
       "      <td>47.0</td>\n",
       "      <td>0</td>\n",
       "      <td>0</td>\n",
       "      <td>23.0</td>\n",
       "      <td>0</td>\n",
       "      <td>0</td>\n",
       "    </tr>\n",
       "  </tbody>\n",
       "</table>\n",
       "</div>"
      ],
      "text/plain": [
       "                     _dewptm  _fog  _hail  _hum  _rain  _snow  _tempm  \\\n",
       "datetime_utc                                                            \n",
       "1996-11-01 11:00:00      9.0     0      0  27.0      0      0    30.0   \n",
       "1996-11-01 12:00:00     10.0     0      0  32.0      0      0    28.0   \n",
       "1996-11-01 13:00:00     11.0     0      0  44.0      0      0    24.0   \n",
       "1996-11-01 14:00:00     10.0     0      0  41.0      0      0    24.0   \n",
       "1996-11-01 16:00:00     11.0     0      0  47.0      0      0    23.0   \n",
       "\n",
       "                     _thunder  _tornado  \n",
       "datetime_utc                             \n",
       "1996-11-01 11:00:00         0         0  \n",
       "1996-11-01 12:00:00         0         0  \n",
       "1996-11-01 13:00:00         0         0  \n",
       "1996-11-01 14:00:00         0         0  \n",
       "1996-11-01 16:00:00         0         0  "
      ]
     },
     "execution_count": 6,
     "metadata": {},
     "output_type": "execute_result"
    }
   ],
   "source": [
    "# fill the nan values by upper row value\n",
    "df = df.ffill()\n",
    "df.head()"
   ]
  },
  {
   "cell_type": "code",
   "execution_count": 7,
   "id": "3babf6bd",
   "metadata": {
    "execution": {
     "iopub.execute_input": "2024-03-19T13:30:59.228647Z",
     "iopub.status.busy": "2024-03-19T13:30:59.228218Z",
     "iopub.status.idle": "2024-03-19T13:30:59.241063Z",
     "shell.execute_reply": "2024-03-19T13:30:59.239979Z"
    },
    "papermill": {
     "duration": 0.026392,
     "end_time": "2024-03-19T13:30:59.243525",
     "exception": false,
     "start_time": "2024-03-19T13:30:59.217133",
     "status": "completed"
    },
    "tags": []
   },
   "outputs": [
    {
     "data": {
      "text/plain": [
       "_dewptm     0\n",
       "_fog        0\n",
       "_hail       0\n",
       "_hum        0\n",
       "_rain       0\n",
       "_snow       0\n",
       "_tempm      0\n",
       "_thunder    0\n",
       "_tornado    0\n",
       "dtype: int64"
      ]
     },
     "execution_count": 7,
     "metadata": {},
     "output_type": "execute_result"
    }
   ],
   "source": [
    "df.isna().sum()"
   ]
  },
  {
   "cell_type": "code",
   "execution_count": 8,
   "id": "f238075e",
   "metadata": {
    "execution": {
     "iopub.execute_input": "2024-03-19T13:30:59.265206Z",
     "iopub.status.busy": "2024-03-19T13:30:59.264810Z",
     "iopub.status.idle": "2024-03-19T13:30:59.304591Z",
     "shell.execute_reply": "2024-03-19T13:30:59.303653Z"
    },
    "papermill": {
     "duration": 0.053809,
     "end_time": "2024-03-19T13:30:59.307399",
     "exception": false,
     "start_time": "2024-03-19T13:30:59.253590",
     "status": "completed"
    },
    "tags": []
   },
   "outputs": [
    {
     "data": {
      "text/html": [
       "<div>\n",
       "<style scoped>\n",
       "    .dataframe tbody tr th:only-of-type {\n",
       "        vertical-align: middle;\n",
       "    }\n",
       "\n",
       "    .dataframe tbody tr th {\n",
       "        vertical-align: top;\n",
       "    }\n",
       "\n",
       "    .dataframe thead th {\n",
       "        text-align: right;\n",
       "    }\n",
       "</style>\n",
       "<table border=\"1\" class=\"dataframe\">\n",
       "  <thead>\n",
       "    <tr style=\"text-align: right;\">\n",
       "      <th></th>\n",
       "      <th>_dewptm</th>\n",
       "      <th>_fog</th>\n",
       "      <th>_hail</th>\n",
       "      <th>_hum</th>\n",
       "      <th>_rain</th>\n",
       "      <th>_snow</th>\n",
       "      <th>_tempm</th>\n",
       "      <th>_thunder</th>\n",
       "      <th>_tornado</th>\n",
       "    </tr>\n",
       "    <tr>\n",
       "      <th>datetime_utc</th>\n",
       "      <th></th>\n",
       "      <th></th>\n",
       "      <th></th>\n",
       "      <th></th>\n",
       "      <th></th>\n",
       "      <th></th>\n",
       "      <th></th>\n",
       "      <th></th>\n",
       "      <th></th>\n",
       "    </tr>\n",
       "  </thead>\n",
       "  <tbody>\n",
       "    <tr>\n",
       "      <th>1996-11-01</th>\n",
       "      <td>11.666667</td>\n",
       "      <td>0.0</td>\n",
       "      <td>0.0</td>\n",
       "      <td>52.916667</td>\n",
       "      <td>0.0</td>\n",
       "      <td>0.0</td>\n",
       "      <td>22.333333</td>\n",
       "      <td>0.0</td>\n",
       "      <td>0.0</td>\n",
       "    </tr>\n",
       "    <tr>\n",
       "      <th>1996-11-02</th>\n",
       "      <td>10.458333</td>\n",
       "      <td>0.0</td>\n",
       "      <td>0.0</td>\n",
       "      <td>48.625000</td>\n",
       "      <td>0.0</td>\n",
       "      <td>0.0</td>\n",
       "      <td>22.916667</td>\n",
       "      <td>0.0</td>\n",
       "      <td>0.0</td>\n",
       "    </tr>\n",
       "    <tr>\n",
       "      <th>1996-11-03</th>\n",
       "      <td>12.041667</td>\n",
       "      <td>0.0</td>\n",
       "      <td>0.0</td>\n",
       "      <td>55.958333</td>\n",
       "      <td>0.0</td>\n",
       "      <td>0.0</td>\n",
       "      <td>21.791667</td>\n",
       "      <td>0.0</td>\n",
       "      <td>0.0</td>\n",
       "    </tr>\n",
       "    <tr>\n",
       "      <th>1996-11-04</th>\n",
       "      <td>10.222222</td>\n",
       "      <td>0.0</td>\n",
       "      <td>0.0</td>\n",
       "      <td>48.055556</td>\n",
       "      <td>0.0</td>\n",
       "      <td>0.0</td>\n",
       "      <td>22.722222</td>\n",
       "      <td>0.0</td>\n",
       "      <td>0.0</td>\n",
       "    </tr>\n",
       "    <tr>\n",
       "      <th>1996-11-05</th>\n",
       "      <td>8.200000</td>\n",
       "      <td>0.0</td>\n",
       "      <td>0.0</td>\n",
       "      <td>29.400000</td>\n",
       "      <td>0.0</td>\n",
       "      <td>0.0</td>\n",
       "      <td>27.800000</td>\n",
       "      <td>0.0</td>\n",
       "      <td>0.0</td>\n",
       "    </tr>\n",
       "  </tbody>\n",
       "</table>\n",
       "</div>"
      ],
      "text/plain": [
       "                _dewptm  _fog  _hail       _hum  _rain  _snow     _tempm  \\\n",
       "datetime_utc                                                               \n",
       "1996-11-01    11.666667   0.0    0.0  52.916667    0.0    0.0  22.333333   \n",
       "1996-11-02    10.458333   0.0    0.0  48.625000    0.0    0.0  22.916667   \n",
       "1996-11-03    12.041667   0.0    0.0  55.958333    0.0    0.0  21.791667   \n",
       "1996-11-04    10.222222   0.0    0.0  48.055556    0.0    0.0  22.722222   \n",
       "1996-11-05     8.200000   0.0    0.0  29.400000    0.0    0.0  27.800000   \n",
       "\n",
       "              _thunder  _tornado  \n",
       "datetime_utc                      \n",
       "1996-11-01         0.0       0.0  \n",
       "1996-11-02         0.0       0.0  \n",
       "1996-11-03         0.0       0.0  \n",
       "1996-11-04         0.0       0.0  \n",
       "1996-11-05         0.0       0.0  "
      ]
     },
     "execution_count": 8,
     "metadata": {},
     "output_type": "execute_result"
    }
   ],
   "source": [
    "df_final = df.resample('D').mean()\n",
    "df_final.head()"
   ]
  },
  {
   "cell_type": "code",
   "execution_count": 9,
   "id": "e1cc4491",
   "metadata": {
    "execution": {
     "iopub.execute_input": "2024-03-19T13:30:59.331055Z",
     "iopub.status.busy": "2024-03-19T13:30:59.330676Z",
     "iopub.status.idle": "2024-03-19T13:30:59.340266Z",
     "shell.execute_reply": "2024-03-19T13:30:59.339115Z"
    },
    "papermill": {
     "duration": 0.023855,
     "end_time": "2024-03-19T13:30:59.342999",
     "exception": false,
     "start_time": "2024-03-19T13:30:59.319144",
     "status": "completed"
    },
    "tags": []
   },
   "outputs": [
    {
     "data": {
      "text/plain": [
       "_dewptm     141\n",
       "_fog        141\n",
       "_hail       141\n",
       "_hum        141\n",
       "_rain       141\n",
       "_snow       141\n",
       "_tempm      141\n",
       "_thunder    141\n",
       "_tornado    141\n",
       "dtype: int64"
      ]
     },
     "execution_count": 9,
     "metadata": {},
     "output_type": "execute_result"
    }
   ],
   "source": [
    "df_final.isna().sum()"
   ]
  },
  {
   "cell_type": "code",
   "execution_count": 10,
   "id": "43f0dc12",
   "metadata": {
    "execution": {
     "iopub.execute_input": "2024-03-19T13:30:59.365884Z",
     "iopub.status.busy": "2024-03-19T13:30:59.365499Z",
     "iopub.status.idle": "2024-03-19T13:30:59.387410Z",
     "shell.execute_reply": "2024-03-19T13:30:59.386047Z"
    },
    "papermill": {
     "duration": 0.036527,
     "end_time": "2024-03-19T13:30:59.389966",
     "exception": false,
     "start_time": "2024-03-19T13:30:59.353439",
     "status": "completed"
    },
    "tags": []
   },
   "outputs": [
    {
     "name": "stderr",
     "output_type": "stream",
     "text": [
      "/tmp/ipykernel_18/4199570251.py:1: FutureWarning: DataFrame.fillna with 'method' is deprecated and will raise in a future version. Use obj.ffill() or obj.bfill() instead.\n",
      "  df_final = df_final.fillna(method='ffill')\n"
     ]
    },
    {
     "data": {
      "text/html": [
       "<div>\n",
       "<style scoped>\n",
       "    .dataframe tbody tr th:only-of-type {\n",
       "        vertical-align: middle;\n",
       "    }\n",
       "\n",
       "    .dataframe tbody tr th {\n",
       "        vertical-align: top;\n",
       "    }\n",
       "\n",
       "    .dataframe thead th {\n",
       "        text-align: right;\n",
       "    }\n",
       "</style>\n",
       "<table border=\"1\" class=\"dataframe\">\n",
       "  <thead>\n",
       "    <tr style=\"text-align: right;\">\n",
       "      <th></th>\n",
       "      <th>_dewptm</th>\n",
       "      <th>_fog</th>\n",
       "      <th>_hail</th>\n",
       "      <th>_hum</th>\n",
       "      <th>_rain</th>\n",
       "      <th>_snow</th>\n",
       "      <th>_tempm</th>\n",
       "      <th>_thunder</th>\n",
       "      <th>_tornado</th>\n",
       "    </tr>\n",
       "    <tr>\n",
       "      <th>datetime_utc</th>\n",
       "      <th></th>\n",
       "      <th></th>\n",
       "      <th></th>\n",
       "      <th></th>\n",
       "      <th></th>\n",
       "      <th></th>\n",
       "      <th></th>\n",
       "      <th></th>\n",
       "      <th></th>\n",
       "    </tr>\n",
       "  </thead>\n",
       "  <tbody>\n",
       "    <tr>\n",
       "      <th>1996-11-01</th>\n",
       "      <td>11.666667</td>\n",
       "      <td>0.0</td>\n",
       "      <td>0.0</td>\n",
       "      <td>52.916667</td>\n",
       "      <td>0.0</td>\n",
       "      <td>0.0</td>\n",
       "      <td>22.333333</td>\n",
       "      <td>0.0</td>\n",
       "      <td>0.0</td>\n",
       "    </tr>\n",
       "    <tr>\n",
       "      <th>1996-11-02</th>\n",
       "      <td>10.458333</td>\n",
       "      <td>0.0</td>\n",
       "      <td>0.0</td>\n",
       "      <td>48.625000</td>\n",
       "      <td>0.0</td>\n",
       "      <td>0.0</td>\n",
       "      <td>22.916667</td>\n",
       "      <td>0.0</td>\n",
       "      <td>0.0</td>\n",
       "    </tr>\n",
       "    <tr>\n",
       "      <th>1996-11-03</th>\n",
       "      <td>12.041667</td>\n",
       "      <td>0.0</td>\n",
       "      <td>0.0</td>\n",
       "      <td>55.958333</td>\n",
       "      <td>0.0</td>\n",
       "      <td>0.0</td>\n",
       "      <td>21.791667</td>\n",
       "      <td>0.0</td>\n",
       "      <td>0.0</td>\n",
       "    </tr>\n",
       "    <tr>\n",
       "      <th>1996-11-04</th>\n",
       "      <td>10.222222</td>\n",
       "      <td>0.0</td>\n",
       "      <td>0.0</td>\n",
       "      <td>48.055556</td>\n",
       "      <td>0.0</td>\n",
       "      <td>0.0</td>\n",
       "      <td>22.722222</td>\n",
       "      <td>0.0</td>\n",
       "      <td>0.0</td>\n",
       "    </tr>\n",
       "    <tr>\n",
       "      <th>1996-11-05</th>\n",
       "      <td>8.200000</td>\n",
       "      <td>0.0</td>\n",
       "      <td>0.0</td>\n",
       "      <td>29.400000</td>\n",
       "      <td>0.0</td>\n",
       "      <td>0.0</td>\n",
       "      <td>27.800000</td>\n",
       "      <td>0.0</td>\n",
       "      <td>0.0</td>\n",
       "    </tr>\n",
       "  </tbody>\n",
       "</table>\n",
       "</div>"
      ],
      "text/plain": [
       "                _dewptm  _fog  _hail       _hum  _rain  _snow     _tempm  \\\n",
       "datetime_utc                                                               \n",
       "1996-11-01    11.666667   0.0    0.0  52.916667    0.0    0.0  22.333333   \n",
       "1996-11-02    10.458333   0.0    0.0  48.625000    0.0    0.0  22.916667   \n",
       "1996-11-03    12.041667   0.0    0.0  55.958333    0.0    0.0  21.791667   \n",
       "1996-11-04    10.222222   0.0    0.0  48.055556    0.0    0.0  22.722222   \n",
       "1996-11-05     8.200000   0.0    0.0  29.400000    0.0    0.0  27.800000   \n",
       "\n",
       "              _thunder  _tornado  \n",
       "datetime_utc                      \n",
       "1996-11-01         0.0       0.0  \n",
       "1996-11-02         0.0       0.0  \n",
       "1996-11-03         0.0       0.0  \n",
       "1996-11-04         0.0       0.0  \n",
       "1996-11-05         0.0       0.0  "
      ]
     },
     "execution_count": 10,
     "metadata": {},
     "output_type": "execute_result"
    }
   ],
   "source": [
    "df_final = df_final.fillna(method='ffill')\n",
    "df_final.head()     "
   ]
  },
  {
   "cell_type": "code",
   "execution_count": 11,
   "id": "331c9e98",
   "metadata": {
    "execution": {
     "iopub.execute_input": "2024-03-19T13:30:59.414260Z",
     "iopub.status.busy": "2024-03-19T13:30:59.413761Z",
     "iopub.status.idle": "2024-03-19T13:30:59.422717Z",
     "shell.execute_reply": "2024-03-19T13:30:59.421888Z"
    },
    "papermill": {
     "duration": 0.023235,
     "end_time": "2024-03-19T13:30:59.424934",
     "exception": false,
     "start_time": "2024-03-19T13:30:59.401699",
     "status": "completed"
    },
    "tags": []
   },
   "outputs": [
    {
     "data": {
      "text/plain": [
       "_dewptm     0\n",
       "_fog        0\n",
       "_hail       0\n",
       "_hum        0\n",
       "_rain       0\n",
       "_snow       0\n",
       "_tempm      0\n",
       "_thunder    0\n",
       "_tornado    0\n",
       "dtype: int64"
      ]
     },
     "execution_count": 11,
     "metadata": {},
     "output_type": "execute_result"
    }
   ],
   "source": [
    "df_final.isna().sum()"
   ]
  },
  {
   "cell_type": "code",
   "execution_count": 12,
   "id": "eebd9937",
   "metadata": {
    "execution": {
     "iopub.execute_input": "2024-03-19T13:30:59.449485Z",
     "iopub.status.busy": "2024-03-19T13:30:59.449057Z",
     "iopub.status.idle": "2024-03-19T13:30:59.489394Z",
     "shell.execute_reply": "2024-03-19T13:30:59.488138Z"
    },
    "papermill": {
     "duration": 0.056153,
     "end_time": "2024-03-19T13:30:59.492058",
     "exception": false,
     "start_time": "2024-03-19T13:30:59.435905",
     "status": "completed"
    },
    "tags": []
   },
   "outputs": [
    {
     "name": "stdout",
     "output_type": "stream",
     "text": [
      "Train X shape: (5976, 10, 9)\n",
      "Train Y shape: (5976,)\n",
      "Test X shape: (1494, 10, 9)\n",
      "Test Y shape: (1494,)\n"
     ]
    }
   ],
   "source": [
    "from sklearn.preprocessing import MinMaxScaler\n",
    "\n",
    "# Normalize the data\n",
    "scaler = MinMaxScaler()\n",
    "scaled_data = scaler.fit_transform(df_final)\n",
    "\n",
    "# Define sequence length and features\n",
    "sequence_length = 10  # Number of time steps in each sequence\n",
    "num_features = len(df_final.columns)\n",
    "\n",
    "# Create sequences and corresponding labels\n",
    "sequences = []\n",
    "labels = []\n",
    "for i in range(len(scaled_data) - sequence_length):\n",
    "    seq = scaled_data[i:i+sequence_length]\n",
    "    label = scaled_data[i+sequence_length][6]  # '_tempm' column index\n",
    "    sequences.append(seq)\n",
    "    labels.append(label)\n",
    "\n",
    "# Convert to numpy arrays\n",
    "sequences = np.array(sequences)\n",
    "labels = np.array(labels)\n",
    "\n",
    "# Split into train and test sets\n",
    "train_size = int(0.8 * len(sequences))\n",
    "train_x, test_x = sequences[:train_size], sequences[train_size:]\n",
    "train_y, test_y = labels[:train_size], labels[train_size:]\n",
    "\n",
    "print(\"Train X shape:\", train_x.shape)\n",
    "print(\"Train Y shape:\", train_y.shape)\n",
    "print(\"Test X shape:\", test_x.shape)\n",
    "print(\"Test Y shape:\", test_y.shape)\n"
   ]
  },
  {
   "cell_type": "code",
   "execution_count": 13,
   "id": "d668cfba",
   "metadata": {
    "execution": {
     "iopub.execute_input": "2024-03-19T13:30:59.517104Z",
     "iopub.status.busy": "2024-03-19T13:30:59.515839Z",
     "iopub.status.idle": "2024-03-19T13:31:14.940702Z",
     "shell.execute_reply": "2024-03-19T13:31:14.939547Z"
    },
    "papermill": {
     "duration": 15.439963,
     "end_time": "2024-03-19T13:31:14.943403",
     "exception": false,
     "start_time": "2024-03-19T13:30:59.503440",
     "status": "completed"
    },
    "tags": []
   },
   "outputs": [
    {
     "name": "stderr",
     "output_type": "stream",
     "text": [
      "2024-03-19 13:31:01.599668: E external/local_xla/xla/stream_executor/cuda/cuda_dnn.cc:9261] Unable to register cuDNN factory: Attempting to register factory for plugin cuDNN when one has already been registered\n",
      "2024-03-19 13:31:01.599821: E external/local_xla/xla/stream_executor/cuda/cuda_fft.cc:607] Unable to register cuFFT factory: Attempting to register factory for plugin cuFFT when one has already been registered\n",
      "2024-03-19 13:31:01.757936: E external/local_xla/xla/stream_executor/cuda/cuda_blas.cc:1515] Unable to register cuBLAS factory: Attempting to register factory for plugin cuBLAS when one has already been registered\n"
     ]
    }
   ],
   "source": [
    "from tensorflow.keras.models import Sequential\n",
    "from tensorflow.keras.layers import LSTM, Dense, Dropout\n",
    "from tensorflow.keras.callbacks import EarlyStopping, ModelCheckpoint\n",
    "\n",
    "# Create the LSTM model\n",
    "model = Sequential()\n",
    "\n",
    "# Add LSTM layers with dropout\n",
    "model.add(LSTM(units=128, input_shape=(train_x.shape[1], train_x.shape[2]), return_sequences=True))\n",
    "model.add(Dropout(0.2))\n",
    "\n",
    "model.add(LSTM(units=64, return_sequences=True))\n",
    "model.add(Dropout(0.2))\n",
    "\n",
    "model.add(LSTM(units=32, return_sequences=False))\n",
    "model.add(Dropout(0.2))\n",
    "\n",
    "# Add a dense output layer\n",
    "model.add(Dense(units=1))\n",
    "\n",
    "# Compile the model\n",
    "model.compile(optimizer='adam', loss='mean_squared_error')\n",
    "     "
   ]
  },
  {
   "cell_type": "code",
   "execution_count": 14,
   "id": "dd0a4e90",
   "metadata": {
    "execution": {
     "iopub.execute_input": "2024-03-19T13:31:14.968594Z",
     "iopub.status.busy": "2024-03-19T13:31:14.967759Z",
     "iopub.status.idle": "2024-03-19T13:31:15.001309Z",
     "shell.execute_reply": "2024-03-19T13:31:14.999711Z"
    },
    "papermill": {
     "duration": 0.054922,
     "end_time": "2024-03-19T13:31:15.009533",
     "exception": false,
     "start_time": "2024-03-19T13:31:14.954611",
     "status": "completed"
    },
    "tags": []
   },
   "outputs": [
    {
     "name": "stdout",
     "output_type": "stream",
     "text": [
      "Model: \"sequential\"\n",
      "_________________________________________________________________\n",
      " Layer (type)                Output Shape              Param #   \n",
      "=================================================================\n",
      " lstm (LSTM)                 (None, 10, 128)           70656     \n",
      "                                                                 \n",
      " dropout (Dropout)           (None, 10, 128)           0         \n",
      "                                                                 \n",
      " lstm_1 (LSTM)               (None, 10, 64)            49408     \n",
      "                                                                 \n",
      " dropout_1 (Dropout)         (None, 10, 64)            0         \n",
      "                                                                 \n",
      " lstm_2 (LSTM)               (None, 32)                12416     \n",
      "                                                                 \n",
      " dropout_2 (Dropout)         (None, 32)                0         \n",
      "                                                                 \n",
      " dense (Dense)               (None, 1)                 33        \n",
      "                                                                 \n",
      "=================================================================\n",
      "Total params: 132513 (517.63 KB)\n",
      "Trainable params: 132513 (517.63 KB)\n",
      "Non-trainable params: 0 (0.00 Byte)\n",
      "_________________________________________________________________\n"
     ]
    }
   ],
   "source": [
    "model.summary()"
   ]
  },
  {
   "cell_type": "code",
   "execution_count": 15,
   "id": "918ddad9",
   "metadata": {
    "execution": {
     "iopub.execute_input": "2024-03-19T13:31:15.038033Z",
     "iopub.status.busy": "2024-03-19T13:31:15.037664Z",
     "iopub.status.idle": "2024-03-19T13:33:12.558341Z",
     "shell.execute_reply": "2024-03-19T13:33:12.556975Z"
    },
    "papermill": {
     "duration": 117.53827,
     "end_time": "2024-03-19T13:33:12.561033",
     "exception": false,
     "start_time": "2024-03-19T13:31:15.022763",
     "status": "completed"
    },
    "tags": []
   },
   "outputs": [
    {
     "name": "stdout",
     "output_type": "stream",
     "text": [
      "Epoch 1/100\n",
      "75/75 [==============================] - 10s 52ms/step - loss: 0.0285 - val_loss: 0.0063\n",
      "Epoch 2/100\n",
      " 5/75 [=>............................] - ETA: 2s - loss: 0.0127"
     ]
    },
    {
     "name": "stderr",
     "output_type": "stream",
     "text": [
      "/opt/conda/lib/python3.10/site-packages/keras/src/engine/training.py:3103: UserWarning: You are saving your model as an HDF5 file via `model.save()`. This file format is considered legacy. We recommend using instead the native Keras format, e.g. `model.save('my_model.keras')`.\n",
      "  saving_api.save_model(\n"
     ]
    },
    {
     "name": "stdout",
     "output_type": "stream",
     "text": [
      "75/75 [==============================] - 2s 33ms/step - loss: 0.0102 - val_loss: 0.0047\n",
      "Epoch 3/100\n",
      "75/75 [==============================] - 3s 34ms/step - loss: 0.0090 - val_loss: 0.0042\n",
      "Epoch 4/100\n",
      "75/75 [==============================] - 3s 34ms/step - loss: 0.0087 - val_loss: 0.0050\n",
      "Epoch 5/100\n",
      "75/75 [==============================] - 3s 34ms/step - loss: 0.0083 - val_loss: 0.0052\n",
      "Epoch 6/100\n",
      "75/75 [==============================] - 3s 33ms/step - loss: 0.0080 - val_loss: 0.0040\n",
      "Epoch 7/100\n",
      "75/75 [==============================] - 2s 33ms/step - loss: 0.0075 - val_loss: 0.0037\n",
      "Epoch 8/100\n",
      "75/75 [==============================] - 3s 34ms/step - loss: 0.0073 - val_loss: 0.0041\n",
      "Epoch 9/100\n",
      "75/75 [==============================] - 3s 34ms/step - loss: 0.0071 - val_loss: 0.0039\n",
      "Epoch 10/100\n",
      "75/75 [==============================] - 3s 35ms/step - loss: 0.0070 - val_loss: 0.0034\n",
      "Epoch 11/100\n",
      "75/75 [==============================] - 3s 39ms/step - loss: 0.0071 - val_loss: 0.0033\n",
      "Epoch 12/100\n",
      "75/75 [==============================] - 3s 34ms/step - loss: 0.0066 - val_loss: 0.0035\n",
      "Epoch 13/100\n",
      "75/75 [==============================] - 3s 34ms/step - loss: 0.0064 - val_loss: 0.0046\n",
      "Epoch 14/100\n",
      "75/75 [==============================] - 3s 33ms/step - loss: 0.0059 - val_loss: 0.0037\n",
      "Epoch 15/100\n",
      "75/75 [==============================] - 3s 34ms/step - loss: 0.0060 - val_loss: 0.0029\n",
      "Epoch 16/100\n",
      "75/75 [==============================] - 3s 34ms/step - loss: 0.0054 - val_loss: 0.0031\n",
      "Epoch 17/100\n",
      "75/75 [==============================] - 3s 33ms/step - loss: 0.0052 - val_loss: 0.0028\n",
      "Epoch 18/100\n",
      "75/75 [==============================] - 3s 34ms/step - loss: 0.0052 - val_loss: 0.0031\n",
      "Epoch 19/100\n",
      "75/75 [==============================] - 3s 34ms/step - loss: 0.0050 - val_loss: 0.0026\n",
      "Epoch 20/100\n",
      "75/75 [==============================] - 3s 34ms/step - loss: 0.0049 - val_loss: 0.0037\n",
      "Epoch 21/100\n",
      "75/75 [==============================] - 3s 34ms/step - loss: 0.0048 - val_loss: 0.0025\n",
      "Epoch 22/100\n",
      "75/75 [==============================] - 3s 34ms/step - loss: 0.0045 - val_loss: 0.0025\n",
      "Epoch 23/100\n",
      "75/75 [==============================] - 3s 36ms/step - loss: 0.0046 - val_loss: 0.0029\n",
      "Epoch 24/100\n",
      "75/75 [==============================] - 3s 35ms/step - loss: 0.0045 - val_loss: 0.0025\n",
      "Epoch 25/100\n",
      "75/75 [==============================] - 3s 34ms/step - loss: 0.0043 - val_loss: 0.0024\n",
      "Epoch 26/100\n",
      "75/75 [==============================] - 2s 33ms/step - loss: 0.0045 - val_loss: 0.0025\n",
      "Epoch 27/100\n",
      "75/75 [==============================] - 3s 33ms/step - loss: 0.0042 - val_loss: 0.0024\n",
      "Epoch 28/100\n",
      "75/75 [==============================] - 2s 33ms/step - loss: 0.0040 - val_loss: 0.0024\n",
      "Epoch 29/100\n",
      "75/75 [==============================] - 3s 34ms/step - loss: 0.0041 - val_loss: 0.0025\n",
      "Epoch 30/100\n",
      "75/75 [==============================] - 2s 33ms/step - loss: 0.0040 - val_loss: 0.0022\n",
      "Epoch 31/100\n",
      "75/75 [==============================] - 3s 34ms/step - loss: 0.0038 - val_loss: 0.0023\n",
      "Epoch 32/100\n",
      "75/75 [==============================] - 3s 34ms/step - loss: 0.0039 - val_loss: 0.0023\n",
      "Epoch 33/100\n",
      "75/75 [==============================] - 3s 33ms/step - loss: 0.0037 - val_loss: 0.0023\n",
      "Epoch 34/100\n",
      "75/75 [==============================] - 3s 34ms/step - loss: 0.0037 - val_loss: 0.0025\n",
      "Epoch 35/100\n",
      "75/75 [==============================] - 3s 34ms/step - loss: 0.0036 - val_loss: 0.0022\n",
      "Epoch 36/100\n",
      "75/75 [==============================] - 3s 37ms/step - loss: 0.0036 - val_loss: 0.0028\n",
      "Epoch 37/100\n",
      "75/75 [==============================] - 2s 33ms/step - loss: 0.0036 - val_loss: 0.0022\n",
      "Epoch 38/100\n",
      "75/75 [==============================] - 3s 34ms/step - loss: 0.0036 - val_loss: 0.0021\n",
      "Epoch 39/100\n",
      "75/75 [==============================] - 3s 34ms/step - loss: 0.0034 - val_loss: 0.0022\n",
      "Epoch 40/100\n",
      "75/75 [==============================] - 3s 34ms/step - loss: 0.0034 - val_loss: 0.0022\n",
      "Epoch 41/100\n",
      "75/75 [==============================] - 2s 33ms/step - loss: 0.0033 - val_loss: 0.0024\n",
      "Epoch 42/100\n",
      "75/75 [==============================] - 2s 33ms/step - loss: 0.0032 - val_loss: 0.0027\n",
      "Epoch 43/100\n",
      "75/75 [==============================] - 3s 34ms/step - loss: 0.0033 - val_loss: 0.0022\n"
     ]
    }
   ],
   "source": [
    "# Define callbacks\n",
    "early_stopping = EarlyStopping(monitor='val_loss', patience=5, restore_best_weights=True)\n",
    "model_checkpoint = ModelCheckpoint('/content/drive/MyDrive/dl/weather_prediction/best_model_weights.h5', monitor='val_los')\n",
    "# Train the model\n",
    "history = model.fit(\n",
    "    train_x, train_y,\n",
    "    epochs=100,\n",
    "    batch_size=64,\n",
    "    validation_split=0.2,  # Use part of the training data as validation\n",
    "    callbacks=[early_stopping, model_checkpoint]\n",
    ")"
   ]
  },
  {
   "cell_type": "code",
   "execution_count": 16,
   "id": "f68d6da2",
   "metadata": {
    "execution": {
     "iopub.execute_input": "2024-03-19T13:33:12.969174Z",
     "iopub.status.busy": "2024-03-19T13:33:12.968708Z",
     "iopub.status.idle": "2024-03-19T13:33:12.973906Z",
     "shell.execute_reply": "2024-03-19T13:33:12.972837Z"
    },
    "papermill": {
     "duration": 0.242367,
     "end_time": "2024-03-19T13:33:12.976104",
     "exception": false,
     "start_time": "2024-03-19T13:33:12.733737",
     "status": "completed"
    },
    "tags": []
   },
   "outputs": [],
   "source": [
    "import tensorflow as tf"
   ]
  },
  {
   "cell_type": "code",
   "execution_count": 17,
   "id": "12d047e0",
   "metadata": {
    "execution": {
     "iopub.execute_input": "2024-03-19T13:33:13.327696Z",
     "iopub.status.busy": "2024-03-19T13:33:13.326647Z",
     "iopub.status.idle": "2024-03-19T13:33:45.485185Z",
     "shell.execute_reply": "2024-03-19T13:33:45.484263Z"
    },
    "papermill": {
     "duration": 32.33806,
     "end_time": "2024-03-19T13:33:45.487493",
     "exception": false,
     "start_time": "2024-03-19T13:33:13.149433",
     "status": "completed"
    },
    "tags": []
   },
   "outputs": [
    {
     "name": "stdout",
     "output_type": "stream",
     "text": [
      "47/47 [==============================] - 2s 10ms/step - loss: 0.0021\n",
      "Test Loss: 0.0021006837487220764\n"
     ]
    }
   ],
   "source": [
    "# Evaluate the best model on the test set\n",
    "best_model = tf.keras.models.load_model('/content/drive/MyDrive/dl/weather_prediction/best_model_weights.h5')\n",
    "test_loss = best_model.evaluate(test_x, test_y)\n",
    "print(\"Test Loss:\", test_loss)"
   ]
  },
  {
   "cell_type": "code",
   "execution_count": 18,
   "id": "ef2a38d4",
   "metadata": {
    "execution": {
     "iopub.execute_input": "2024-03-19T13:33:45.841927Z",
     "iopub.status.busy": "2024-03-19T13:33:45.840920Z",
     "iopub.status.idle": "2024-03-19T13:33:46.072223Z",
     "shell.execute_reply": "2024-03-19T13:33:46.071006Z"
    },
    "papermill": {
     "duration": 0.410113,
     "end_time": "2024-03-19T13:33:46.075061",
     "exception": false,
     "start_time": "2024-03-19T13:33:45.664948",
     "status": "completed"
    },
    "tags": []
   },
   "outputs": [
    {
     "data": {
      "image/png": "[encoded data removed]",
      "text/plain": [
       "<Figure size 640x480 with 1 Axes>"
      ]
     },
     "metadata": {},
     "output_type": "display_data"
    }
   ],
   "source": [
    "# Plot training & validation loss values\n",
    "plt.plot(history.history['loss'])\n",
    "plt.plot(history.history['val_loss'])\n",
    "plt.title('Model Loss')\n",
    "plt.xlabel('Epoch')\n",
    "plt.ylabel('Loss')\n",
    "plt.legend(['Train', 'Validation'], loc='upper right')\n",
    "plt.show()"
   ]
  },
  {
   "cell_type": "code",
   "execution_count": 19,
   "id": "fa9d02b0",
   "metadata": {
    "execution": {
     "iopub.execute_input": "2024-03-19T13:33:46.425688Z",
     "iopub.status.busy": "2024-03-19T13:33:46.425256Z",
     "iopub.status.idle": "2024-03-19T13:33:48.178318Z",
     "shell.execute_reply": "2024-03-19T13:33:48.177125Z"
    },
    "papermill": {
     "duration": 1.931434,
     "end_time": "2024-03-19T13:33:48.180821",
     "exception": false,
     "start_time": "2024-03-19T13:33:46.249387",
     "status": "completed"
    },
    "tags": []
   },
   "outputs": [
    {
     "name": "stdout",
     "output_type": "stream",
     "text": [
      "47/47 [==============================] - 2s 9ms/step\n",
      "Mean Absolute Error (MAE): 0.03513183115608265\n",
      "Mean Squared Error (MSE): 0.0021006836271866\n",
      "Root Mean Squared Error (RMSE): 0.04583321532673221\n"
     ]
    }
   ],
   "source": [
    "from sklearn.metrics import mean_absolute_error, mean_squared_error\n",
    "\n",
    "# Assuming you have trained the model and have the 'best_model' object\n",
    "# Also, 'test_x' and 'test_y' should be available\n",
    "\n",
    "# Predict temperatures using the trained model\n",
    "predictions = best_model.predict(test_x)\n",
    "\n",
    "# Calculate evaluation metrics\n",
    "mae = mean_absolute_error(test_y, predictions)\n",
    "mse = mean_squared_error(test_y, predictions)\n",
    "rmse = np.sqrt(mse)\n",
    "\n",
    "print(\"Mean Absolute Error (MAE):\", mae)\n",
    "print(\"Mean Squared Error (MSE):\", mse)\n",
    "print(\"Root Mean Squared Error (RMSE):\", rmse)"
   ]
  },
  {
   "cell_type": "code",
   "execution_count": 20,
   "id": "361e4fc2",
   "metadata": {
    "execution": {
     "iopub.execute_input": "2024-03-19T13:33:48.542699Z",
     "iopub.status.busy": "2024-03-19T13:33:48.541852Z",
     "iopub.status.idle": "2024-03-19T13:33:49.047666Z",
     "shell.execute_reply": "2024-03-19T13:33:49.046518Z"
    },
    "papermill": {
     "duration": 0.686546,
     "end_time": "2024-03-19T13:33:49.050141",
     "exception": false,
     "start_time": "2024-03-19T13:33:48.363595",
     "status": "completed"
    },
    "tags": []
   },
   "outputs": [
    {
     "name": "stdout",
     "output_type": "stream",
     "text": [
      "47/47 [==============================] - 0s 9ms/step\n"
     ]
    }
   ],
   "source": [
    "# y_true values\n",
    "test_y_copies = np.repeat(test_y.reshape(-1, 1), test_x.shape[-1], axis=-1)\n",
    "true_temp = scaler.inverse_transform(test_y_copies)[:,6]\n",
    "\n",
    "# predicted values\n",
    "prediction = best_model.predict(test_x)\n",
    "prediction_copies = np.repeat(prediction, 9, axis=-1)\n",
    "predicted_temp = scaler.inverse_transform(prediction_copies)[:,6]"
   ]
  },
  {
   "cell_type": "code",
   "execution_count": 21,
   "id": "8abf1285",
   "metadata": {
    "execution": {
     "iopub.execute_input": "2024-03-19T13:33:49.407620Z",
     "iopub.status.busy": "2024-03-19T13:33:49.407165Z",
     "iopub.status.idle": "2024-03-19T13:33:49.770416Z",
     "shell.execute_reply": "2024-03-19T13:33:49.769377Z"
    },
    "papermill": {
     "duration": 0.544072,
     "end_time": "2024-03-19T13:33:49.772976",
     "exception": false,
     "start_time": "2024-03-19T13:33:49.228904",
     "status": "completed"
    },
    "tags": []
   },
   "outputs": [
    {
     "data": {
      "image/png": "[encoded data removed]",
      "text/plain": [
       "<Figure size 1000x600 with 1 Axes>"
      ]
     },
     "metadata": {},
     "output_type": "display_data"
    }
   ],
   "source": [
    "\n",
    "# Plotting predicted and actual temperatures\n",
    "plt.figure(figsize=(10, 6))\n",
    "plt.plot(df_final.index[-100:], true_temp[-100:], label='Actual')\n",
    "plt.plot(df_final.index[-100:], predicted_temp[-100:], label='Predicted')\n",
    "plt.title('Temperature Prediction vs Actual')\n",
    "plt.xlabel('Time')\n",
    "plt.ylabel('Temperature')\n",
    "plt.legend()\n",
    "plt.show()"
   ]
  }
 ],
 "metadata": {
  "kaggle": {
   "accelerator": "none",
   "dataSources": [
    {
     "datasetId": 1118,
     "sourceId": 2090,
     "sourceType": "datasetVersion"
    }
   ],
   "dockerImageVersionId": 30646,
   "isGpuEnabled": false,
   "isInternetEnabled": true,
   "language": "python",
   "sourceType": "notebook"
  },
  "kernelspec": {
   "display_name": "Python 3",
   "language": "python",
   "name": "python3"
  },
  "language_info": {
   "codemirror_mode": {
    "name": "ipython",
    "version": 3
   },
   "file_extension": ".py",
   "mimetype": "text/x-python",
   "name": "python",
   "nbconvert_exporter": "python",
   "pygments_lexer": "ipython3",
   "version": "3.10.13"
  },
  "papermill": {
   "default_parameters": {},
   "duration": 180.119086,
   "end_time": "2024-03-19T13:33:52.078157",
   "environment_variables": {},
   "exception": null,
   "input_path": "__notebook__.ipynb",
   "output_path": "__notebook__.ipynb",
   "parameters": {},
   "start_time": "2024-03-19T13:30:51.959071",
   "version": "2.5.0"
  }
 },
 "nbformat": 4,
 "nbformat_minor": 5
}
