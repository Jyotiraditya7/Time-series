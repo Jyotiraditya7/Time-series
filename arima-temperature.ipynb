{
 "cells": [
  {
   "cell_type": "code",
   "execution_count": 1,
   "id": "940164e1",
   "metadata": {
    "execution": {
     "iopub.execute_input": "2024-03-19T13:38:17.833127Z",
     "iopub.status.busy": "2024-03-19T13:38:17.832350Z",
     "iopub.status.idle": "2024-03-19T13:38:18.855869Z",
     "shell.execute_reply": "2024-03-19T13:38:18.854771Z"
    },
    "papermill": {
     "duration": 1.035691,
     "end_time": "2024-03-19T13:38:18.858515",
     "exception": false,
     "start_time": "2024-03-19T13:38:17.822824",
     "status": "completed"
    },
    "tags": []
   },
   "outputs": [
    {
     "name": "stdout",
     "output_type": "stream",
     "text": [
      "Shape of data (1821, 5)\n"
     ]
    },
    {
     "data": {
      "text/html": [
       "<div>\n",
       "<style scoped>\n",
       "    .dataframe tbody tr th:only-of-type {\n",
       "        vertical-align: middle;\n",
       "    }\n",
       "\n",
       "    .dataframe tbody tr th {\n",
       "        vertical-align: top;\n",
       "    }\n",
       "\n",
       "    .dataframe thead th {\n",
       "        text-align: right;\n",
       "    }\n",
       "</style>\n",
       "<table border=\"1\" class=\"dataframe\">\n",
       "  <thead>\n",
       "    <tr style=\"text-align: right;\">\n",
       "      <th></th>\n",
       "      <th>MinTemp</th>\n",
       "      <th>MaxTemp</th>\n",
       "      <th>AvgTemp</th>\n",
       "      <th>Sunrise</th>\n",
       "      <th>Sunset</th>\n",
       "    </tr>\n",
       "    <tr>\n",
       "      <th>DATE</th>\n",
       "      <th></th>\n",
       "      <th></th>\n",
       "      <th></th>\n",
       "      <th></th>\n",
       "      <th></th>\n",
       "    </tr>\n",
       "  </thead>\n",
       "  <tbody>\n",
       "    <tr>\n",
       "      <th>2014-01-01</th>\n",
       "      <td>33.0</td>\n",
       "      <td>46.0</td>\n",
       "      <td>40.0</td>\n",
       "      <td>657</td>\n",
       "      <td>1756</td>\n",
       "    </tr>\n",
       "    <tr>\n",
       "      <th>2014-01-02</th>\n",
       "      <td>35.0</td>\n",
       "      <td>50.0</td>\n",
       "      <td>43.0</td>\n",
       "      <td>657</td>\n",
       "      <td>1756</td>\n",
       "    </tr>\n",
       "    <tr>\n",
       "      <th>2014-01-03</th>\n",
       "      <td>36.0</td>\n",
       "      <td>45.0</td>\n",
       "      <td>41.0</td>\n",
       "      <td>657</td>\n",
       "      <td>1757</td>\n",
       "    </tr>\n",
       "    <tr>\n",
       "      <th>2014-01-04</th>\n",
       "      <td>32.0</td>\n",
       "      <td>41.0</td>\n",
       "      <td>37.0</td>\n",
       "      <td>658</td>\n",
       "      <td>1757</td>\n",
       "    </tr>\n",
       "    <tr>\n",
       "      <th>2014-01-05</th>\n",
       "      <td>24.0</td>\n",
       "      <td>38.0</td>\n",
       "      <td>31.0</td>\n",
       "      <td>658</td>\n",
       "      <td>1758</td>\n",
       "    </tr>\n",
       "    <tr>\n",
       "      <th>...</th>\n",
       "      <td>...</td>\n",
       "      <td>...</td>\n",
       "      <td>...</td>\n",
       "      <td>...</td>\n",
       "      <td>...</td>\n",
       "    </tr>\n",
       "    <tr>\n",
       "      <th>2018-12-26</th>\n",
       "      <td>35.0</td>\n",
       "      <td>45.0</td>\n",
       "      <td>40.0</td>\n",
       "      <td>654</td>\n",
       "      <td>1752</td>\n",
       "    </tr>\n",
       "    <tr>\n",
       "      <th>2018-12-27</th>\n",
       "      <td>33.0</td>\n",
       "      <td>44.0</td>\n",
       "      <td>39.0</td>\n",
       "      <td>655</td>\n",
       "      <td>1752</td>\n",
       "    </tr>\n",
       "    <tr>\n",
       "      <th>2018-12-28</th>\n",
       "      <td>33.0</td>\n",
       "      <td>47.0</td>\n",
       "      <td>40.0</td>\n",
       "      <td>655</td>\n",
       "      <td>1753</td>\n",
       "    </tr>\n",
       "    <tr>\n",
       "      <th>2018-12-29</th>\n",
       "      <td>36.0</td>\n",
       "      <td>47.0</td>\n",
       "      <td>42.0</td>\n",
       "      <td>655</td>\n",
       "      <td>1753</td>\n",
       "    </tr>\n",
       "    <tr>\n",
       "      <th>2018-12-30</th>\n",
       "      <td>39.0</td>\n",
       "      <td>52.0</td>\n",
       "      <td>46.0</td>\n",
       "      <td>656</td>\n",
       "      <td>1754</td>\n",
       "    </tr>\n",
       "  </tbody>\n",
       "</table>\n",
       "<p>1821 rows × 5 columns</p>\n",
       "</div>"
      ],
      "text/plain": [
       "            MinTemp  MaxTemp  AvgTemp  Sunrise  Sunset\n",
       "DATE                                                  \n",
       "2014-01-01     33.0     46.0     40.0      657    1756\n",
       "2014-01-02     35.0     50.0     43.0      657    1756\n",
       "2014-01-03     36.0     45.0     41.0      657    1757\n",
       "2014-01-04     32.0     41.0     37.0      658    1757\n",
       "2014-01-05     24.0     38.0     31.0      658    1758\n",
       "...             ...      ...      ...      ...     ...\n",
       "2018-12-26     35.0     45.0     40.0      654    1752\n",
       "2018-12-27     33.0     44.0     39.0      655    1752\n",
       "2018-12-28     33.0     47.0     40.0      655    1753\n",
       "2018-12-29     36.0     47.0     42.0      655    1753\n",
       "2018-12-30     39.0     52.0     46.0      656    1754\n",
       "\n",
       "[1821 rows x 5 columns]"
      ]
     },
     "execution_count": 1,
     "metadata": {},
     "output_type": "execute_result"
    }
   ],
   "source": [
    "import pandas as pd\n",
    "path = \"/kaggle/input/maunaloadailytemps-dataset/MaunaLoaDailyTemps-1.csv\"\n",
    "df=pd.read_csv(path,index_col='DATE'   ,parse_dates=True)\n",
    "df=df.dropna()\n",
    "print('Shape of data',df.shape)\n",
    "df.head()\n",
    "df"
   ]
  },
  {
   "cell_type": "code",
   "execution_count": 2,
   "id": "7bbb0403",
   "metadata": {
    "execution": {
     "iopub.execute_input": "2024-03-19T13:38:18.876217Z",
     "iopub.status.busy": "2024-03-19T13:38:18.875781Z",
     "iopub.status.idle": "2024-03-19T13:38:18.899647Z",
     "shell.execute_reply": "2024-03-19T13:38:18.897975Z"
    },
    "papermill": {
     "duration": 0.035643,
     "end_time": "2024-03-19T13:38:18.902449",
     "exception": false,
     "start_time": "2024-03-19T13:38:18.866806",
     "status": "completed"
    },
    "tags": []
   },
   "outputs": [
    {
     "name": "stdout",
     "output_type": "stream",
     "text": [
      "<class 'pandas.core.frame.DataFrame'>\n",
      "DatetimeIndex: 1821 entries, 2014-01-01 to 2018-12-30\n",
      "Data columns (total 5 columns):\n",
      " #   Column   Non-Null Count  Dtype  \n",
      "---  ------   --------------  -----  \n",
      " 0   MinTemp  1821 non-null   float64\n",
      " 1   MaxTemp  1821 non-null   float64\n",
      " 2   AvgTemp  1821 non-null   float64\n",
      " 3   Sunrise  1821 non-null   int64  \n",
      " 4   Sunset   1821 non-null   int64  \n",
      "dtypes: float64(3), int64(2)\n",
      "memory usage: 85.4 KB\n"
     ]
    }
   ],
   "source": [
    "df.info()"
   ]
  },
  {
   "cell_type": "code",
   "execution_count": 3,
   "id": "f832d108",
   "metadata": {
    "execution": {
     "iopub.execute_input": "2024-03-19T13:38:18.919608Z",
     "iopub.status.busy": "2024-03-19T13:38:18.919175Z",
     "iopub.status.idle": "2024-03-19T13:38:19.432358Z",
     "shell.execute_reply": "2024-03-19T13:38:19.431427Z"
    },
    "papermill": {
     "duration": 0.524971,
     "end_time": "2024-03-19T13:38:19.434924",
     "exception": false,
     "start_time": "2024-03-19T13:38:18.909953",
     "status": "completed"
    },
    "tags": []
   },
   "outputs": [
    {
     "data": {
      "text/plain": [
       "<Axes: xlabel='DATE'>"
      ]
     },
     "execution_count": 3,
     "metadata": {},
     "output_type": "execute_result"
    },
    {
     "data": {
      "image/png": "[encoded data removed]",
      "text/plain": [
       "<Figure size 1200x500 with 1 Axes>"
      ]
     },
     "metadata": {},
     "output_type": "display_data"
    }
   ],
   "source": [
    "df['AvgTemp'].plot(figsize=(12,5))"
   ]
  },
  {
   "cell_type": "code",
   "execution_count": 4,
   "id": "5a2323ab",
   "metadata": {
    "_cell_guid": "b1076dfc-b9ad-4769-8c92-a6c4dae69d19",
    "_uuid": "8f2839f25d086af736a60e9eeb907d3b93b6e0e5",
    "execution": {
     "iopub.execute_input": "2024-03-19T13:38:19.455335Z",
     "iopub.status.busy": "2024-03-19T13:38:19.454658Z",
     "iopub.status.idle": "2024-03-19T13:38:21.177251Z",
     "shell.execute_reply": "2024-03-19T13:38:21.175747Z"
    },
    "papermill": {
     "duration": 1.73856,
     "end_time": "2024-03-19T13:38:21.182595",
     "exception": false,
     "start_time": "2024-03-19T13:38:19.444035",
     "status": "completed"
    },
    "tags": []
   },
   "outputs": [
    {
     "name": "stdout",
     "output_type": "stream",
     "text": [
      "1. ADF :  -6.554680125068781\n",
      "2. P-Value :  8.67593748019951e-09\n",
      "3. Num Of Lags :  12\n",
      "4. Num Of Observations Used For ADF Regression: 1808\n",
      "5. Critical Values :\n",
      "\t 1% :  -3.433972018026501\n",
      "\t 5% :  -2.8631399192826676\n",
      "\t 10% :  -2.5676217442756872\n"
     ]
    }
   ],
   "source": [
    "from statsmodels.tsa.stattools import adfuller\n",
    "def adf_test(dataset):\n",
    "     dftest = adfuller(dataset, autolag = 'AIC')\n",
    "     print(\"1. ADF : \",dftest[0])\n",
    "     print(\"2. P-Value : \", dftest[1])\n",
    "     print(\"3. Num Of Lags : \", dftest[2])\n",
    "     print(\"4. Num Of Observations Used For ADF Regression:\",      dftest[3])\n",
    "     print(\"5. Critical Values :\")\n",
    "     for key, val in dftest[4].items():\n",
    "         print(\"\\t\",key, \": \", val)\n",
    "adf_test(df['AvgTemp'])"
   ]
  },
  {
   "cell_type": "code",
   "execution_count": 5,
   "id": "b5c43e34",
   "metadata": {
    "execution": {
     "iopub.execute_input": "2024-03-19T13:38:21.226036Z",
     "iopub.status.busy": "2024-03-19T13:38:21.225311Z",
     "iopub.status.idle": "2024-03-19T13:38:38.068320Z",
     "shell.execute_reply": "2024-03-19T13:38:38.066719Z"
    },
    "papermill": {
     "duration": 16.867822,
     "end_time": "2024-03-19T13:38:38.070925",
     "exception": false,
     "start_time": "2024-03-19T13:38:21.203103",
     "status": "completed"
    },
    "tags": []
   },
   "outputs": [
    {
     "name": "stdout",
     "output_type": "stream",
     "text": [
      "Collecting pmdarima\r\n",
      "  Obtaining dependency information for pmdarima from https://files.pythonhosted.org/packages/ec/2b/e7d18360d56396b62781ba4616527af49244d4bed51f0780646fa3953cc8/pmdarima-2.0.4-cp310-cp310-manylinux_2_17_x86_64.manylinux2014_x86_64.manylinux_2_28_x86_64.whl.metadata\r\n",
      "  Downloading pmdarima-2.0.4-cp310-cp310-manylinux_2_17_x86_64.manylinux2014_x86_64.manylinux_2_28_x86_64.whl.metadata (7.8 kB)\r\n",
      "Requirement already satisfied: joblib>=0.11 in /opt/conda/lib/python3.10/site-packages (from pmdarima) (1.3.2)\r\n",
      "Requirement already satisfied: Cython!=0.29.18,!=0.29.31,>=0.29 in /opt/conda/lib/python3.10/site-packages (from pmdarima) (3.0.0)\r\n",
      "Requirement already satisfied: numpy>=1.21.2 in /opt/conda/lib/python3.10/site-packages (from pmdarima) (1.24.3)\r\n",
      "Requirement already satisfied: pandas>=0.19 in /opt/conda/lib/python3.10/site-packages (from pmdarima) (2.0.3)\r\n",
      "Requirement already satisfied: scikit-learn>=0.22 in /opt/conda/lib/python3.10/site-packages (from pmdarima) (1.2.2)\r\n",
      "Requirement already satisfied: scipy>=1.3.2 in /opt/conda/lib/python3.10/site-packages (from pmdarima) (1.11.4)\r\n",
      "Requirement already satisfied: statsmodels>=0.13.2 in /opt/conda/lib/python3.10/site-packages (from pmdarima) (0.14.0)\r\n",
      "Requirement already satisfied: urllib3 in /opt/conda/lib/python3.10/site-packages (from pmdarima) (1.26.15)\r\n",
      "Requirement already satisfied: setuptools!=50.0.0,>=38.6.0 in /opt/conda/lib/python3.10/site-packages (from pmdarima) (68.1.2)\r\n",
      "Requirement already satisfied: packaging>=17.1 in /opt/conda/lib/python3.10/site-packages (from pmdarima) (21.3)\r\n",
      "Requirement already satisfied: pyparsing!=3.0.5,>=2.0.2 in /opt/conda/lib/python3.10/site-packages (from packaging>=17.1->pmdarima) (3.0.9)\r\n",
      "Requirement already satisfied: python-dateutil>=2.8.2 in /opt/conda/lib/python3.10/site-packages (from pandas>=0.19->pmdarima) (2.8.2)\r\n",
      "Requirement already satisfied: pytz>=2020.1 in /opt/conda/lib/python3.10/site-packages (from pandas>=0.19->pmdarima) (2023.3)\r\n",
      "Requirement already satisfied: tzdata>=2022.1 in /opt/conda/lib/python3.10/site-packages (from pandas>=0.19->pmdarima) (2023.3)\r\n",
      "Requirement already satisfied: threadpoolctl>=2.0.0 in /opt/conda/lib/python3.10/site-packages (from scikit-learn>=0.22->pmdarima) (3.2.0)\r\n",
      "Requirement already satisfied: patsy>=0.5.2 in /opt/conda/lib/python3.10/site-packages (from statsmodels>=0.13.2->pmdarima) (0.5.3)\r\n",
      "Requirement already satisfied: six in /opt/conda/lib/python3.10/site-packages (from patsy>=0.5.2->statsmodels>=0.13.2->pmdarima) (1.16.0)\r\n",
      "Downloading pmdarima-2.0.4-cp310-cp310-manylinux_2_17_x86_64.manylinux2014_x86_64.manylinux_2_28_x86_64.whl (2.1 MB)\r\n",
      "\u001b[2K   \u001b[90m━━━━━━━━━━━━━━━━━━━━━━━━━━━━━━━━━━━━━━━━\u001b[0m \u001b[32m2.1/2.1 MB\u001b[0m \u001b[31m28.6 MB/s\u001b[0m eta \u001b[36m0:00:00\u001b[0m\r\n",
      "\u001b[?25hInstalling collected packages: pmdarima\r\n",
      "Successfully installed pmdarima-2.0.4\r\n",
      "Note: you may need to restart the kernel to use updated packages.\n"
     ]
    }
   ],
   "source": [
    "pip install pmdarima"
   ]
  },
  {
   "cell_type": "code",
   "execution_count": 6,
   "id": "c820bfeb",
   "metadata": {
    "execution": {
     "iopub.execute_input": "2024-03-19T13:38:38.094770Z",
     "iopub.status.busy": "2024-03-19T13:38:38.094220Z",
     "iopub.status.idle": "2024-03-19T13:38:39.982827Z",
     "shell.execute_reply": "2024-03-19T13:38:39.981784Z"
    },
    "papermill": {
     "duration": 1.903581,
     "end_time": "2024-03-19T13:38:39.985422",
     "exception": false,
     "start_time": "2024-03-19T13:38:38.081841",
     "status": "completed"
    },
    "tags": []
   },
   "outputs": [],
   "source": [
    "from pmdarima import auto_arima \n",
    "# Ignore harmless warnings\n",
    "import warnings\n",
    "warnings.filterwarnings(\"ignore\")"
   ]
  },
  {
   "cell_type": "code",
   "execution_count": 7,
   "id": "8b19e692",
   "metadata": {
    "execution": {
     "iopub.execute_input": "2024-03-19T13:38:40.009506Z",
     "iopub.status.busy": "2024-03-19T13:38:40.008410Z",
     "iopub.status.idle": "2024-03-19T13:40:10.638042Z",
     "shell.execute_reply": "2024-03-19T13:40:10.636401Z"
    },
    "papermill": {
     "duration": 90.647042,
     "end_time": "2024-03-19T13:40:10.643120",
     "exception": false,
     "start_time": "2024-03-19T13:38:39.996078",
     "status": "completed"
    },
    "tags": []
   },
   "outputs": [
    {
     "name": "stdout",
     "output_type": "stream",
     "text": [
      "Performing stepwise search to minimize aic\n",
      " ARIMA(2,0,2)(0,0,0)[0] intercept   : AIC=8344.217, Time=5.32 sec\n",
      " ARIMA(0,0,0)(0,0,0)[0] intercept   : AIC=10347.755, Time=0.05 sec\n",
      " ARIMA(1,0,0)(0,0,0)[0] intercept   : AIC=8365.701, Time=0.21 sec\n",
      " ARIMA(0,0,1)(0,0,0)[0] intercept   : AIC=9136.225, Time=0.24 sec\n",
      " ARIMA(0,0,0)(0,0,0)[0]             : AIC=19192.139, Time=0.03 sec\n",
      " ARIMA(1,0,2)(0,0,0)[0] intercept   : AIC=8355.947, Time=1.33 sec\n",
      " ARIMA(2,0,1)(0,0,0)[0] intercept   : AIC=8356.308, Time=1.59 sec\n",
      " ARIMA(3,0,2)(0,0,0)[0] intercept   : AIC=8347.287, Time=2.42 sec\n",
      " ARIMA(2,0,3)(0,0,0)[0] intercept   : AIC=8318.571, Time=6.40 sec\n",
      " ARIMA(1,0,3)(0,0,0)[0] intercept   : AIC=8330.191, Time=6.70 sec\n",
      " ARIMA(3,0,3)(0,0,0)[0] intercept   : AIC=8310.705, Time=7.83 sec\n",
      " ARIMA(4,0,3)(0,0,0)[0] intercept   : AIC=8332.313, Time=7.96 sec\n",
      " ARIMA(3,0,4)(0,0,0)[0] intercept   : AIC=8317.276, Time=8.92 sec\n",
      " ARIMA(2,0,4)(0,0,0)[0] intercept   : AIC=8304.928, Time=8.64 sec\n",
      " ARIMA(1,0,4)(0,0,0)[0] intercept   : AIC=8297.259, Time=7.27 sec\n",
      " ARIMA(0,0,4)(0,0,0)[0] intercept   : AIC=8455.435, Time=2.18 sec\n",
      " ARIMA(1,0,5)(0,0,0)[0] intercept   : AIC=8294.945, Time=9.67 sec\n",
      " ARIMA(0,0,5)(0,0,0)[0] intercept   : AIC=8419.091, Time=2.61 sec\n",
      " ARIMA(2,0,5)(0,0,0)[0] intercept   : AIC=8302.367, Time=10.16 sec\n",
      " ARIMA(1,0,5)(0,0,0)[0]             : AIC=8304.533, Time=1.02 sec\n",
      "\n",
      "Best model:  ARIMA(1,0,5)(0,0,0)[0] intercept\n",
      "Total fit time: 90.584 seconds\n",
      "                               SARIMAX Results                                \n",
      "==============================================================================\n",
      "Dep. Variable:                      y   No. Observations:                 1821\n",
      "Model:               SARIMAX(1, 0, 5)   Log Likelihood               -4139.473\n",
      "Date:                Tue, 19 Mar 2024   AIC                           8294.945\n",
      "Time:                        13:40:10   BIC                           8339.002\n",
      "Sample:                             0   HQIC                          8311.199\n",
      "                               - 1821                                         \n",
      "Covariance Type:                  opg                                         \n",
      "==============================================================================\n",
      "                 coef    std err          z      P>|z|      [0.025      0.975]\n",
      "------------------------------------------------------------------------------\n",
      "intercept      1.2389      0.372      3.327      0.001       0.509       1.969\n",
      "ar.L1          0.9734      0.008    121.459      0.000       0.958       0.989\n",
      "ma.L1         -0.1166      0.024     -4.898      0.000      -0.163      -0.070\n",
      "ma.L2         -0.2188      0.024     -9.057      0.000      -0.266      -0.171\n",
      "ma.L3         -0.2111      0.024     -8.823      0.000      -0.258      -0.164\n",
      "ma.L4         -0.1348      0.023     -5.916      0.000      -0.179      -0.090\n",
      "ma.L5         -0.0485      0.024     -1.990      0.047      -0.096      -0.001\n",
      "sigma2         5.5037      0.172     31.910      0.000       5.166       5.842\n",
      "===================================================================================\n",
      "Ljung-Box (L1) (Q):                   0.14   Jarque-Bera (JB):                20.43\n",
      "Prob(Q):                              0.71   Prob(JB):                         0.00\n",
      "Heteroskedasticity (H):               0.81   Skew:                            -0.17\n",
      "Prob(H) (two-sided):                  0.01   Kurtosis:                         3.39\n",
      "===================================================================================\n",
      "\n",
      "Warnings:\n",
      "[1] Covariance matrix calculated using the outer product of gradients (complex-step).\n"
     ]
    }
   ],
   "source": [
    "stepwise_fit = auto_arima(df['AvgTemp'], trace=True,\n",
    "suppress_warnings=True)\n",
    "print(stepwise_fit.summary())"
   ]
  },
  {
   "cell_type": "code",
   "execution_count": 8,
   "id": "e4f5e251",
   "metadata": {
    "execution": {
     "iopub.execute_input": "2024-03-19T13:40:10.696902Z",
     "iopub.status.busy": "2024-03-19T13:40:10.696508Z",
     "iopub.status.idle": "2024-03-19T13:40:10.701506Z",
     "shell.execute_reply": "2024-03-19T13:40:10.700656Z"
    },
    "papermill": {
     "duration": 0.032859,
     "end_time": "2024-03-19T13:40:10.704220",
     "exception": false,
     "start_time": "2024-03-19T13:40:10.671361",
     "status": "completed"
    },
    "tags": []
   },
   "outputs": [],
   "source": [
    "from statsmodels.tsa.arima.model import ARIMA"
   ]
  },
  {
   "cell_type": "code",
   "execution_count": 9,
   "id": "864e30a5",
   "metadata": {
    "execution": {
     "iopub.execute_input": "2024-03-19T13:40:10.730532Z",
     "iopub.status.busy": "2024-03-19T13:40:10.729875Z",
     "iopub.status.idle": "2024-03-19T13:40:10.742658Z",
     "shell.execute_reply": "2024-03-19T13:40:10.741080Z"
    },
    "papermill": {
     "duration": 0.028516,
     "end_time": "2024-03-19T13:40:10.744974",
     "exception": false,
     "start_time": "2024-03-19T13:40:10.716458",
     "status": "completed"
    },
    "tags": []
   },
   "outputs": [
    {
     "name": "stdout",
     "output_type": "stream",
     "text": [
      "(1821, 5)\n",
      "(1791, 5) (30, 5)\n",
      "MinTemp      38.0\n",
      "MaxTemp      52.0\n",
      "AvgTemp      45.0\n",
      "Sunrise     640.0\n",
      "Sunset     1742.0\n",
      "Name: 2018-11-30 00:00:00, dtype: float64\n",
      "MinTemp      36.0\n",
      "MaxTemp      52.0\n",
      "AvgTemp      44.0\n",
      "Sunrise     640.0\n",
      "Sunset     1743.0\n",
      "Name: 2018-12-01 00:00:00, dtype: float64 MinTemp      39.0\n",
      "MaxTemp      52.0\n",
      "AvgTemp      46.0\n",
      "Sunrise     656.0\n",
      "Sunset     1754.0\n",
      "Name: 2018-12-30 00:00:00, dtype: float64\n"
     ]
    }
   ],
   "source": [
    "from datetime import datetime,timedelta\n",
    "print(df.shape)\n",
    "train=df.iloc[:-30]\n",
    "test=df.iloc[-30:]\n",
    "print(train.shape,test.shape)\n",
    "print(train.iloc[-1])\n",
    "print(test.iloc[0],test.iloc[-1])\n"
   ]
  },
  {
   "cell_type": "code",
   "execution_count": 10,
   "id": "42c8e481",
   "metadata": {
    "execution": {
     "iopub.execute_input": "2024-03-19T13:40:10.771619Z",
     "iopub.status.busy": "2024-03-19T13:40:10.770804Z",
     "iopub.status.idle": "2024-03-19T13:40:15.565638Z",
     "shell.execute_reply": "2024-03-19T13:40:15.564058Z"
    },
    "papermill": {
     "duration": 4.813153,
     "end_time": "2024-03-19T13:40:15.570513",
     "exception": false,
     "start_time": "2024-03-19T13:40:10.757360",
     "status": "completed"
    },
    "tags": []
   },
   "outputs": [
    {
     "data": {
      "text/html": [
       "<table class=\"simpletable\">\n",
       "<caption>SARIMAX Results</caption>\n",
       "<tr>\n",
       "  <th>Dep. Variable:</th>        <td>AvgTemp</td>     <th>  No. Observations:  </th>   <td>1821</td>   \n",
       "</tr>\n",
       "<tr>\n",
       "  <th>Model:</th>            <td>ARIMA(1, 0, 5)</td>  <th>  Log Likelihood     </th> <td>-4138.130</td>\n",
       "</tr>\n",
       "<tr>\n",
       "  <th>Date:</th>            <td>Tue, 19 Mar 2024</td> <th>  AIC                </th> <td>8292.261</td> \n",
       "</tr>\n",
       "<tr>\n",
       "  <th>Time:</th>                <td>13:40:15</td>     <th>  BIC                </th> <td>8336.318</td> \n",
       "</tr>\n",
       "<tr>\n",
       "  <th>Sample:</th>                  <td>0</td>        <th>  HQIC               </th> <td>8308.514</td> \n",
       "</tr>\n",
       "<tr>\n",
       "  <th></th>                      <td> - 1821</td>     <th>                     </th>     <td> </td>    \n",
       "</tr>\n",
       "<tr>\n",
       "  <th>Covariance Type:</th>        <td>opg</td>       <th>                     </th>     <td> </td>    \n",
       "</tr>\n",
       "</table>\n",
       "<table class=\"simpletable\">\n",
       "<tr>\n",
       "     <td></td>       <th>coef</th>     <th>std err</th>      <th>z</th>      <th>P>|z|</th>  <th>[0.025</th>    <th>0.975]</th>  \n",
       "</tr>\n",
       "<tr>\n",
       "  <th>const</th>  <td>   46.5284</td> <td>    0.758</td> <td>   61.403</td> <td> 0.000</td> <td>   45.043</td> <td>   48.014</td>\n",
       "</tr>\n",
       "<tr>\n",
       "  <th>ar.L1</th>  <td>    0.9860</td> <td>    0.005</td> <td>  192.909</td> <td> 0.000</td> <td>    0.976</td> <td>    0.996</td>\n",
       "</tr>\n",
       "<tr>\n",
       "  <th>ma.L1</th>  <td>   -0.1403</td> <td>    0.023</td> <td>   -6.125</td> <td> 0.000</td> <td>   -0.185</td> <td>   -0.095</td>\n",
       "</tr>\n",
       "<tr>\n",
       "  <th>ma.L2</th>  <td>   -0.2328</td> <td>    0.023</td> <td>  -10.038</td> <td> 0.000</td> <td>   -0.278</td> <td>   -0.187</td>\n",
       "</tr>\n",
       "<tr>\n",
       "  <th>ma.L3</th>  <td>   -0.2163</td> <td>    0.023</td> <td>   -9.280</td> <td> 0.000</td> <td>   -0.262</td> <td>   -0.171</td>\n",
       "</tr>\n",
       "<tr>\n",
       "  <th>ma.L4</th>  <td>   -0.1478</td> <td>    0.023</td> <td>   -6.542</td> <td> 0.000</td> <td>   -0.192</td> <td>   -0.104</td>\n",
       "</tr>\n",
       "<tr>\n",
       "  <th>ma.L5</th>  <td>   -0.0587</td> <td>    0.024</td> <td>   -2.424</td> <td> 0.015</td> <td>   -0.106</td> <td>   -0.011</td>\n",
       "</tr>\n",
       "<tr>\n",
       "  <th>sigma2</th> <td>    5.5080</td> <td>    0.173</td> <td>   31.925</td> <td> 0.000</td> <td>    5.170</td> <td>    5.846</td>\n",
       "</tr>\n",
       "</table>\n",
       "<table class=\"simpletable\">\n",
       "<tr>\n",
       "  <th>Ljung-Box (L1) (Q):</th>     <td>0.00</td> <th>  Jarque-Bera (JB):  </th> <td>15.69</td>\n",
       "</tr>\n",
       "<tr>\n",
       "  <th>Prob(Q):</th>                <td>0.98</td> <th>  Prob(JB):          </th> <td>0.00</td> \n",
       "</tr>\n",
       "<tr>\n",
       "  <th>Heteroskedasticity (H):</th> <td>0.81</td> <th>  Skew:              </th> <td>-0.15</td>\n",
       "</tr>\n",
       "<tr>\n",
       "  <th>Prob(H) (two-sided):</th>    <td>0.01</td> <th>  Kurtosis:          </th> <td>3.34</td> \n",
       "</tr>\n",
       "</table><br/><br/>Warnings:<br/>[1] Covariance matrix calculated using the outer product of gradients (complex-step)."
      ],
      "text/latex": [
       "\\begin{center}\n",
       "\\begin{tabular}{lclc}\n",
       "\\toprule\n",
       "\\textbf{Dep. Variable:}          &     AvgTemp      & \\textbf{  No. Observations:  } &    1821     \\\\\n",
       "\\textbf{Model:}                  &  ARIMA(1, 0, 5)  & \\textbf{  Log Likelihood     } & -4138.130   \\\\\n",
       "\\textbf{Date:}                   & Tue, 19 Mar 2024 & \\textbf{  AIC                } &  8292.261   \\\\\n",
       "\\textbf{Time:}                   &     13:40:15     & \\textbf{  BIC                } &  8336.318   \\\\\n",
       "\\textbf{Sample:}                 &        0         & \\textbf{  HQIC               } &  8308.514   \\\\\n",
       "\\textbf{}                        &      - 1821      & \\textbf{                     } &             \\\\\n",
       "\\textbf{Covariance Type:}        &       opg        & \\textbf{                     } &             \\\\\n",
       "\\bottomrule\n",
       "\\end{tabular}\n",
       "\\begin{tabular}{lcccccc}\n",
       "                & \\textbf{coef} & \\textbf{std err} & \\textbf{z} & \\textbf{P$> |$z$|$} & \\textbf{[0.025} & \\textbf{0.975]}  \\\\\n",
       "\\midrule\n",
       "\\textbf{const}  &      46.5284  &        0.758     &    61.403  &         0.000        &       45.043    &       48.014     \\\\\n",
       "\\textbf{ar.L1}  &       0.9860  &        0.005     &   192.909  &         0.000        &        0.976    &        0.996     \\\\\n",
       "\\textbf{ma.L1}  &      -0.1403  &        0.023     &    -6.125  &         0.000        &       -0.185    &       -0.095     \\\\\n",
       "\\textbf{ma.L2}  &      -0.2328  &        0.023     &   -10.038  &         0.000        &       -0.278    &       -0.187     \\\\\n",
       "\\textbf{ma.L3}  &      -0.2163  &        0.023     &    -9.280  &         0.000        &       -0.262    &       -0.171     \\\\\n",
       "\\textbf{ma.L4}  &      -0.1478  &        0.023     &    -6.542  &         0.000        &       -0.192    &       -0.104     \\\\\n",
       "\\textbf{ma.L5}  &      -0.0587  &        0.024     &    -2.424  &         0.015        &       -0.106    &       -0.011     \\\\\n",
       "\\textbf{sigma2} &       5.5080  &        0.173     &    31.925  &         0.000        &        5.170    &        5.846     \\\\\n",
       "\\bottomrule\n",
       "\\end{tabular}\n",
       "\\begin{tabular}{lclc}\n",
       "\\textbf{Ljung-Box (L1) (Q):}     & 0.00 & \\textbf{  Jarque-Bera (JB):  } & 15.69  \\\\\n",
       "\\textbf{Prob(Q):}                & 0.98 & \\textbf{  Prob(JB):          } &  0.00  \\\\\n",
       "\\textbf{Heteroskedasticity (H):} & 0.81 & \\textbf{  Skew:              } & -0.15  \\\\\n",
       "\\textbf{Prob(H) (two-sided):}    & 0.01 & \\textbf{  Kurtosis:          } &  3.34  \\\\\n",
       "\\bottomrule\n",
       "\\end{tabular}\n",
       "%\\caption{SARIMAX Results}\n",
       "\\end{center}\n",
       "\n",
       "Warnings: \\newline\n",
       " [1] Covariance matrix calculated using the outer product of gradients (complex-step)."
      ],
      "text/plain": [
       "<class 'statsmodels.iolib.summary.Summary'>\n",
       "\"\"\"\n",
       "                               SARIMAX Results                                \n",
       "==============================================================================\n",
       "Dep. Variable:                AvgTemp   No. Observations:                 1821\n",
       "Model:                 ARIMA(1, 0, 5)   Log Likelihood               -4138.130\n",
       "Date:                Tue, 19 Mar 2024   AIC                           8292.261\n",
       "Time:                        13:40:15   BIC                           8336.318\n",
       "Sample:                             0   HQIC                          8308.514\n",
       "                               - 1821                                         \n",
       "Covariance Type:                  opg                                         \n",
       "==============================================================================\n",
       "                 coef    std err          z      P>|z|      [0.025      0.975]\n",
       "------------------------------------------------------------------------------\n",
       "const         46.5284      0.758     61.403      0.000      45.043      48.014\n",
       "ar.L1          0.9860      0.005    192.909      0.000       0.976       0.996\n",
       "ma.L1         -0.1403      0.023     -6.125      0.000      -0.185      -0.095\n",
       "ma.L2         -0.2328      0.023    -10.038      0.000      -0.278      -0.187\n",
       "ma.L3         -0.2163      0.023     -9.280      0.000      -0.262      -0.171\n",
       "ma.L4         -0.1478      0.023     -6.542      0.000      -0.192      -0.104\n",
       "ma.L5         -0.0587      0.024     -2.424      0.015      -0.106      -0.011\n",
       "sigma2         5.5080      0.173     31.925      0.000       5.170       5.846\n",
       "===================================================================================\n",
       "Ljung-Box (L1) (Q):                   0.00   Jarque-Bera (JB):                15.69\n",
       "Prob(Q):                              0.98   Prob(JB):                         0.00\n",
       "Heteroskedasticity (H):               0.81   Skew:                            -0.15\n",
       "Prob(H) (two-sided):                  0.01   Kurtosis:                         3.34\n",
       "===================================================================================\n",
       "\n",
       "Warnings:\n",
       "[1] Covariance matrix calculated using the outer product of gradients (complex-step).\n",
       "\"\"\""
      ]
     },
     "execution_count": 10,
     "metadata": {},
     "output_type": "execute_result"
    }
   ],
   "source": [
    "model=ARIMA(df['AvgTemp'],order=(1,0,5))\n",
    "model_fit=model.fit()\n",
    "model_fit.summary()"
   ]
  },
  {
   "cell_type": "code",
   "execution_count": 11,
   "id": "30e0704e",
   "metadata": {
    "execution": {
     "iopub.execute_input": "2024-03-19T13:40:15.603280Z",
     "iopub.status.busy": "2024-03-19T13:40:15.602491Z",
     "iopub.status.idle": "2024-03-19T13:40:15.993175Z",
     "shell.execute_reply": "2024-03-19T13:40:15.992157Z"
    },
    "papermill": {
     "duration": 0.407805,
     "end_time": "2024-03-19T13:40:15.995985",
     "exception": false,
     "start_time": "2024-03-19T13:40:15.588180",
     "status": "completed"
    },
    "tags": []
   },
   "outputs": [
    {
     "name": "stdout",
     "output_type": "stream",
     "text": [
      "Actual Average Temperature:\n",
      "DATE\n",
      "2018-12-01    44.0\n",
      "2018-12-02    42.0\n",
      "2018-12-03    45.0\n",
      "2018-12-04    48.0\n",
      "2018-12-05    45.0\n",
      "2018-12-06    44.0\n",
      "2018-12-07    45.0\n",
      "2018-12-08    44.0\n",
      "2018-12-09    45.0\n",
      "2018-12-10    46.0\n",
      "2018-12-11    47.0\n",
      "2018-12-12    47.0\n",
      "2018-12-13    45.0\n",
      "2018-12-14    46.0\n",
      "2018-12-15    47.0\n",
      "2018-12-16    49.0\n",
      "2018-12-17    51.0\n",
      "2018-12-18    43.0\n",
      "2018-12-19    42.0\n",
      "2018-12-20    48.0\n",
      "2018-12-21    50.0\n",
      "2018-12-22    47.0\n",
      "2018-12-23    47.0\n",
      "2018-12-24    44.0\n",
      "2018-12-25    42.0\n",
      "2018-12-26    40.0\n",
      "2018-12-27    39.0\n",
      "2018-12-28    40.0\n",
      "2018-12-29    42.0\n",
      "2018-12-30    46.0\n",
      "Name: AvgTemp, dtype: float64\n",
      "\n",
      "Predicted Average Temperature:\n",
      "2018-12-01    44.743659\n",
      "2018-12-02    44.354268\n",
      "2018-12-03    42.939618\n",
      "2018-12-04    45.754275\n",
      "2018-12-05    47.930992\n",
      "2018-12-06    44.855744\n",
      "2018-12-07    44.185677\n",
      "2018-12-08    45.287438\n",
      "2018-12-09    44.513030\n",
      "2018-12-10    45.375240\n",
      "2018-12-11    46.014677\n",
      "2018-12-12    46.746901\n",
      "2018-12-13    46.596897\n",
      "2018-12-14    44.852409\n",
      "2018-12-15    45.981112\n",
      "2018-12-16    46.833422\n",
      "2018-12-17    48.397212\n",
      "2018-12-18    49.771462\n",
      "2018-12-19    42.706714\n",
      "2018-12-20    42.796039\n",
      "2018-12-21    48.366615\n",
      "2018-12-22    49.511812\n",
      "2018-12-23    46.341752\n",
      "2018-12-24    46.404669\n",
      "2018-12-25    44.215879\n",
      "2018-12-26    43.067257\n",
      "2018-12-27    41.607901\n",
      "2018-12-28    40.981616\n",
      "2018-12-29    41.968533\n",
      "2018-12-30    43.435178\n",
      "Freq: D, Name: ARIMA predictions, dtype: float64\n"
     ]
    },
    {
     "data": {
      "image/png": "[encoded data removed]",
      "text/plain": [
       "<Figure size 640x480 with 1 Axes>"
      ]
     },
     "metadata": {},
     "output_type": "display_data"
    }
   ],
   "source": [
    "# Define the start and end points for prediction\n",
    "start = len(train)\n",
    "end = len(train) + len(test) - 1\n",
    "\n",
    "# Forecast\n",
    "pred = model_fit.predict(start=start, end=end, typ='levels').rename('ARIMA predictions')\n",
    "\n",
    "# If the predicted values don't have date values as index, uncomment the following lines\n",
    "index_future_dates = pd.date_range(start='2018-12-01', end='2018-12-30')\n",
    "pred.index = index_future_dates\n",
    "\n",
    "# Plot the predictions and the actual values\n",
    "pred.plot(legend=True)\n",
    "test['AvgTemp'].plot(legend=True)\n",
    "\n",
    "# Print the actual and predicted values for comparison\n",
    "print(\"Actual Average Temperature:\")\n",
    "print(test['AvgTemp'])\n",
    "print(\"\\nPredicted Average Temperature:\")\n",
    "print(pred)\n"
   ]
  },
  {
   "cell_type": "code",
   "execution_count": 12,
   "id": "29d61a5a",
   "metadata": {
    "execution": {
     "iopub.execute_input": "2024-03-19T13:40:16.028011Z",
     "iopub.status.busy": "2024-03-19T13:40:16.027629Z",
     "iopub.status.idle": "2024-03-19T13:40:16.035116Z",
     "shell.execute_reply": "2024-03-19T13:40:16.033903Z"
    },
    "papermill": {
     "duration": 0.026369,
     "end_time": "2024-03-19T13:40:16.037696",
     "exception": false,
     "start_time": "2024-03-19T13:40:16.011327",
     "status": "completed"
    },
    "tags": []
   },
   "outputs": [
    {
     "name": "stdout",
     "output_type": "stream",
     "text": [
      "2.326315047721701\n"
     ]
    }
   ],
   "source": [
    "from sklearn.metrics import mean_squared_error\n",
    "from math import sqrt\n",
    "rmse=sqrt(mean_squared_error(pred,test['AvgTemp']))\n",
    "print(rmse)"
   ]
  },
  {
   "cell_type": "code",
   "execution_count": 13,
   "id": "f5ccf63a",
   "metadata": {
    "execution": {
     "iopub.execute_input": "2024-03-19T13:40:16.067930Z",
     "iopub.status.busy": "2024-03-19T13:40:16.067089Z",
     "iopub.status.idle": "2024-03-19T13:40:20.856617Z",
     "shell.execute_reply": "2024-03-19T13:40:20.855015Z"
    },
    "papermill": {
     "duration": 4.809932,
     "end_time": "2024-03-19T13:40:20.861722",
     "exception": false,
     "start_time": "2024-03-19T13:40:16.051790",
     "status": "completed"
    },
    "tags": []
   },
   "outputs": [
    {
     "data": {
      "text/html": [
       "<div>\n",
       "<style scoped>\n",
       "    .dataframe tbody tr th:only-of-type {\n",
       "        vertical-align: middle;\n",
       "    }\n",
       "\n",
       "    .dataframe tbody tr th {\n",
       "        vertical-align: top;\n",
       "    }\n",
       "\n",
       "    .dataframe thead th {\n",
       "        text-align: right;\n",
       "    }\n",
       "</style>\n",
       "<table border=\"1\" class=\"dataframe\">\n",
       "  <thead>\n",
       "    <tr style=\"text-align: right;\">\n",
       "      <th></th>\n",
       "      <th>MinTemp</th>\n",
       "      <th>MaxTemp</th>\n",
       "      <th>AvgTemp</th>\n",
       "      <th>Sunrise</th>\n",
       "      <th>Sunset</th>\n",
       "    </tr>\n",
       "    <tr>\n",
       "      <th>DATE</th>\n",
       "      <th></th>\n",
       "      <th></th>\n",
       "      <th></th>\n",
       "      <th></th>\n",
       "      <th></th>\n",
       "    </tr>\n",
       "  </thead>\n",
       "  <tbody>\n",
       "    <tr>\n",
       "      <th>2018-12-26</th>\n",
       "      <td>35.0</td>\n",
       "      <td>45.0</td>\n",
       "      <td>40.0</td>\n",
       "      <td>654</td>\n",
       "      <td>1752</td>\n",
       "    </tr>\n",
       "    <tr>\n",
       "      <th>2018-12-27</th>\n",
       "      <td>33.0</td>\n",
       "      <td>44.0</td>\n",
       "      <td>39.0</td>\n",
       "      <td>655</td>\n",
       "      <td>1752</td>\n",
       "    </tr>\n",
       "    <tr>\n",
       "      <th>2018-12-28</th>\n",
       "      <td>33.0</td>\n",
       "      <td>47.0</td>\n",
       "      <td>40.0</td>\n",
       "      <td>655</td>\n",
       "      <td>1753</td>\n",
       "    </tr>\n",
       "    <tr>\n",
       "      <th>2018-12-29</th>\n",
       "      <td>36.0</td>\n",
       "      <td>47.0</td>\n",
       "      <td>42.0</td>\n",
       "      <td>655</td>\n",
       "      <td>1753</td>\n",
       "    </tr>\n",
       "    <tr>\n",
       "      <th>2018-12-30</th>\n",
       "      <td>39.0</td>\n",
       "      <td>52.0</td>\n",
       "      <td>46.0</td>\n",
       "      <td>656</td>\n",
       "      <td>1754</td>\n",
       "    </tr>\n",
       "  </tbody>\n",
       "</table>\n",
       "</div>"
      ],
      "text/plain": [
       "            MinTemp  MaxTemp  AvgTemp  Sunrise  Sunset\n",
       "DATE                                                  \n",
       "2018-12-26     35.0     45.0     40.0      654    1752\n",
       "2018-12-27     33.0     44.0     39.0      655    1752\n",
       "2018-12-28     33.0     47.0     40.0      655    1753\n",
       "2018-12-29     36.0     47.0     42.0      655    1753\n",
       "2018-12-30     39.0     52.0     46.0      656    1754"
      ]
     },
     "execution_count": 13,
     "metadata": {},
     "output_type": "execute_result"
    }
   ],
   "source": [
    "model2=ARIMA(df['AvgTemp'],order=(1,0,5))\n",
    "model2=model2.fit()\n",
    "df.tail()"
   ]
  },
  {
   "cell_type": "code",
   "execution_count": 14,
   "id": "4fbec39a",
   "metadata": {
    "execution": {
     "iopub.execute_input": "2024-03-19T13:40:20.923758Z",
     "iopub.status.busy": "2024-03-19T13:40:20.923357Z",
     "iopub.status.idle": "2024-03-19T13:40:20.939571Z",
     "shell.execute_reply": "2024-03-19T13:40:20.938255Z"
    },
    "papermill": {
     "duration": 0.049806,
     "end_time": "2024-03-19T13:40:20.942579",
     "exception": false,
     "start_time": "2024-03-19T13:40:20.892773",
     "status": "completed"
    },
    "tags": []
   },
   "outputs": [
    {
     "name": "stdout",
     "output_type": "stream",
     "text": [
      "2018-12-30    46.418166\n",
      "2018-12-31    46.113912\n",
      "2019-01-01    45.617874\n",
      "2019-01-02    45.249566\n",
      "2019-01-03    45.116915\n",
      "2019-01-04    45.136666\n",
      "2019-01-05    45.156140\n",
      "2019-01-06    45.175341\n",
      "2019-01-07    45.194274\n",
      "2019-01-08    45.212942\n",
      "2019-01-09    45.231349\n",
      "2019-01-10    45.249498\n",
      "2019-01-11    45.267393\n",
      "2019-01-12    45.285038\n",
      "2019-01-13    45.302436\n",
      "2019-01-14    45.319590\n",
      "2019-01-15    45.336505\n",
      "2019-01-16    45.353183\n",
      "2019-01-17    45.369627\n",
      "2019-01-18    45.385841\n",
      "2019-01-19    45.401829\n",
      "2019-01-20    45.417593\n",
      "2019-01-21    45.433136\n",
      "2019-01-22    45.448462\n",
      "2019-01-23    45.463573\n",
      "2019-01-24    45.478473\n",
      "2019-01-25    45.493164\n",
      "2019-01-26    45.507650\n",
      "2019-01-27    45.521933\n",
      "2019-01-28    45.536016\n",
      "2019-01-29    45.549903\n",
      "Freq: D, Name: ARIMA Predictions, dtype: float64\n"
     ]
    }
   ],
   "source": [
    "\n",
    "index_future_dates=pd.date_range(start='2018-12-30',end='2019-01-29')\n",
    "#print(index_future_dates)\n",
    "pred=model2.predict(start=len(df),end=len(df)+30,typ='levels').rename('ARIMA Predictions')\n",
    "#print(comp_pred)\n",
    "pred.index=index_future_dates\n",
    "print(pred)\n",
    "     "
   ]
  },
  {
   "cell_type": "code",
   "execution_count": 15,
   "id": "0bd21dac",
   "metadata": {
    "execution": {
     "iopub.execute_input": "2024-03-19T13:40:20.973611Z",
     "iopub.status.busy": "2024-03-19T13:40:20.972777Z",
     "iopub.status.idle": "2024-03-19T13:40:21.521552Z",
     "shell.execute_reply": "2024-03-19T13:40:21.520327Z"
    },
    "papermill": {
     "duration": 0.567438,
     "end_time": "2024-03-19T13:40:21.524336",
     "exception": false,
     "start_time": "2024-03-19T13:40:20.956898",
     "status": "completed"
    },
    "tags": []
   },
   "outputs": [
    {
     "data": {
      "text/plain": [
       "<Axes: >"
      ]
     },
     "execution_count": 15,
     "metadata": {},
     "output_type": "execute_result"
    },
    {
     "data": {
      "image/png": "[encoded data removed]",
      "text/plain": [
       "<Figure size 1200x500 with 1 Axes>"
      ]
     },
     "metadata": {},
     "output_type": "display_data"
    }
   ],
   "source": [
    "pred.plot(figsize=(12,5),legend=True)"
   ]
  },
  {
   "cell_type": "markdown",
   "id": "6ac6233f",
   "metadata": {
    "papermill": {
     "duration": 0.014743,
     "end_time": "2024-03-19T13:40:21.554514",
     "exception": false,
     "start_time": "2024-03-19T13:40:21.539771",
     "status": "completed"
    },
    "tags": []
   },
   "source": [
    "\n",
    "\n",
    "USING TRAIN\n",
    "\n",
    "\n",
    "\n"
   ]
  },
  {
   "cell_type": "code",
   "execution_count": 16,
   "id": "7f70119a",
   "metadata": {
    "execution": {
     "iopub.execute_input": "2024-03-19T13:40:21.586899Z",
     "iopub.status.busy": "2024-03-19T13:40:21.586513Z",
     "iopub.status.idle": "2024-03-19T13:40:25.584372Z",
     "shell.execute_reply": "2024-03-19T13:40:25.582770Z"
    },
    "papermill": {
     "duration": 4.019257,
     "end_time": "2024-03-19T13:40:25.589178",
     "exception": false,
     "start_time": "2024-03-19T13:40:21.569921",
     "status": "completed"
    },
    "tags": []
   },
   "outputs": [
    {
     "data": {
      "text/html": [
       "<table class=\"simpletable\">\n",
       "<caption>SARIMAX Results</caption>\n",
       "<tr>\n",
       "  <th>Dep. Variable:</th>        <td>AvgTemp</td>     <th>  No. Observations:  </th>   <td>1791</td>   \n",
       "</tr>\n",
       "<tr>\n",
       "  <th>Model:</th>            <td>ARIMA(1, 0, 5)</td>  <th>  Log Likelihood     </th> <td>-4070.198</td>\n",
       "</tr>\n",
       "<tr>\n",
       "  <th>Date:</th>            <td>Tue, 19 Mar 2024</td> <th>  AIC                </th> <td>8156.395</td> \n",
       "</tr>\n",
       "<tr>\n",
       "  <th>Time:</th>                <td>13:40:25</td>     <th>  BIC                </th> <td>8200.320</td> \n",
       "</tr>\n",
       "<tr>\n",
       "  <th>Sample:</th>                  <td>0</td>        <th>  HQIC               </th> <td>8172.614</td> \n",
       "</tr>\n",
       "<tr>\n",
       "  <th></th>                      <td> - 1791</td>     <th>                     </th>     <td> </td>    \n",
       "</tr>\n",
       "<tr>\n",
       "  <th>Covariance Type:</th>        <td>opg</td>       <th>                     </th>     <td> </td>    \n",
       "</tr>\n",
       "</table>\n",
       "<table class=\"simpletable\">\n",
       "<tr>\n",
       "     <td></td>       <th>coef</th>     <th>std err</th>      <th>z</th>      <th>P>|z|</th>  <th>[0.025</th>    <th>0.975]</th>  \n",
       "</tr>\n",
       "<tr>\n",
       "  <th>const</th>  <td>   46.5856</td> <td>    0.758</td> <td>   61.454</td> <td> 0.000</td> <td>   45.100</td> <td>   48.071</td>\n",
       "</tr>\n",
       "<tr>\n",
       "  <th>ar.L1</th>  <td>    0.9856</td> <td>    0.005</td> <td>  188.230</td> <td> 0.000</td> <td>    0.975</td> <td>    0.996</td>\n",
       "</tr>\n",
       "<tr>\n",
       "  <th>ma.L1</th>  <td>   -0.1412</td> <td>    0.023</td> <td>   -6.124</td> <td> 0.000</td> <td>   -0.186</td> <td>   -0.096</td>\n",
       "</tr>\n",
       "<tr>\n",
       "  <th>ma.L2</th>  <td>   -0.2268</td> <td>    0.024</td> <td>   -9.635</td> <td> 0.000</td> <td>   -0.273</td> <td>   -0.181</td>\n",
       "</tr>\n",
       "<tr>\n",
       "  <th>ma.L3</th>  <td>   -0.2168</td> <td>    0.023</td> <td>   -9.251</td> <td> 0.000</td> <td>   -0.263</td> <td>   -0.171</td>\n",
       "</tr>\n",
       "<tr>\n",
       "  <th>ma.L4</th>  <td>   -0.1479</td> <td>    0.023</td> <td>   -6.491</td> <td> 0.000</td> <td>   -0.193</td> <td>   -0.103</td>\n",
       "</tr>\n",
       "<tr>\n",
       "  <th>ma.L5</th>  <td>   -0.0595</td> <td>    0.024</td> <td>   -2.438</td> <td> 0.015</td> <td>   -0.107</td> <td>   -0.012</td>\n",
       "</tr>\n",
       "<tr>\n",
       "  <th>sigma2</th> <td>    5.5093</td> <td>    0.174</td> <td>   31.624</td> <td> 0.000</td> <td>    5.168</td> <td>    5.851</td>\n",
       "</tr>\n",
       "</table>\n",
       "<table class=\"simpletable\">\n",
       "<tr>\n",
       "  <th>Ljung-Box (L1) (Q):</th>     <td>0.00</td> <th>  Jarque-Bera (JB):  </th> <td>14.88</td>\n",
       "</tr>\n",
       "<tr>\n",
       "  <th>Prob(Q):</th>                <td>0.97</td> <th>  Prob(JB):          </th> <td>0.00</td> \n",
       "</tr>\n",
       "<tr>\n",
       "  <th>Heteroskedasticity (H):</th> <td>0.82</td> <th>  Skew:              </th> <td>-0.15</td>\n",
       "</tr>\n",
       "<tr>\n",
       "  <th>Prob(H) (two-sided):</th>    <td>0.01</td> <th>  Kurtosis:          </th> <td>3.33</td> \n",
       "</tr>\n",
       "</table><br/><br/>Warnings:<br/>[1] Covariance matrix calculated using the outer product of gradients (complex-step)."
      ],
      "text/latex": [
       "\\begin{center}\n",
       "\\begin{tabular}{lclc}\n",
       "\\toprule\n",
       "\\textbf{Dep. Variable:}          &     AvgTemp      & \\textbf{  No. Observations:  } &    1791     \\\\\n",
       "\\textbf{Model:}                  &  ARIMA(1, 0, 5)  & \\textbf{  Log Likelihood     } & -4070.198   \\\\\n",
       "\\textbf{Date:}                   & Tue, 19 Mar 2024 & \\textbf{  AIC                } &  8156.395   \\\\\n",
       "\\textbf{Time:}                   &     13:40:25     & \\textbf{  BIC                } &  8200.320   \\\\\n",
       "\\textbf{Sample:}                 &        0         & \\textbf{  HQIC               } &  8172.614   \\\\\n",
       "\\textbf{}                        &      - 1791      & \\textbf{                     } &             \\\\\n",
       "\\textbf{Covariance Type:}        &       opg        & \\textbf{                     } &             \\\\\n",
       "\\bottomrule\n",
       "\\end{tabular}\n",
       "\\begin{tabular}{lcccccc}\n",
       "                & \\textbf{coef} & \\textbf{std err} & \\textbf{z} & \\textbf{P$> |$z$|$} & \\textbf{[0.025} & \\textbf{0.975]}  \\\\\n",
       "\\midrule\n",
       "\\textbf{const}  &      46.5856  &        0.758     &    61.454  &         0.000        &       45.100    &       48.071     \\\\\n",
       "\\textbf{ar.L1}  &       0.9856  &        0.005     &   188.230  &         0.000        &        0.975    &        0.996     \\\\\n",
       "\\textbf{ma.L1}  &      -0.1412  &        0.023     &    -6.124  &         0.000        &       -0.186    &       -0.096     \\\\\n",
       "\\textbf{ma.L2}  &      -0.2268  &        0.024     &    -9.635  &         0.000        &       -0.273    &       -0.181     \\\\\n",
       "\\textbf{ma.L3}  &      -0.2168  &        0.023     &    -9.251  &         0.000        &       -0.263    &       -0.171     \\\\\n",
       "\\textbf{ma.L4}  &      -0.1479  &        0.023     &    -6.491  &         0.000        &       -0.193    &       -0.103     \\\\\n",
       "\\textbf{ma.L5}  &      -0.0595  &        0.024     &    -2.438  &         0.015        &       -0.107    &       -0.012     \\\\\n",
       "\\textbf{sigma2} &       5.5093  &        0.174     &    31.624  &         0.000        &        5.168    &        5.851     \\\\\n",
       "\\bottomrule\n",
       "\\end{tabular}\n",
       "\\begin{tabular}{lclc}\n",
       "\\textbf{Ljung-Box (L1) (Q):}     & 0.00 & \\textbf{  Jarque-Bera (JB):  } & 14.88  \\\\\n",
       "\\textbf{Prob(Q):}                & 0.97 & \\textbf{  Prob(JB):          } &  0.00  \\\\\n",
       "\\textbf{Heteroskedasticity (H):} & 0.82 & \\textbf{  Skew:              } & -0.15  \\\\\n",
       "\\textbf{Prob(H) (two-sided):}    & 0.01 & \\textbf{  Kurtosis:          } &  3.33  \\\\\n",
       "\\bottomrule\n",
       "\\end{tabular}\n",
       "%\\caption{SARIMAX Results}\n",
       "\\end{center}\n",
       "\n",
       "Warnings: \\newline\n",
       " [1] Covariance matrix calculated using the outer product of gradients (complex-step)."
      ],
      "text/plain": [
       "<class 'statsmodels.iolib.summary.Summary'>\n",
       "\"\"\"\n",
       "                               SARIMAX Results                                \n",
       "==============================================================================\n",
       "Dep. Variable:                AvgTemp   No. Observations:                 1791\n",
       "Model:                 ARIMA(1, 0, 5)   Log Likelihood               -4070.198\n",
       "Date:                Tue, 19 Mar 2024   AIC                           8156.395\n",
       "Time:                        13:40:25   BIC                           8200.320\n",
       "Sample:                             0   HQIC                          8172.614\n",
       "                               - 1791                                         \n",
       "Covariance Type:                  opg                                         \n",
       "==============================================================================\n",
       "                 coef    std err          z      P>|z|      [0.025      0.975]\n",
       "------------------------------------------------------------------------------\n",
       "const         46.5856      0.758     61.454      0.000      45.100      48.071\n",
       "ar.L1          0.9856      0.005    188.230      0.000       0.975       0.996\n",
       "ma.L1         -0.1412      0.023     -6.124      0.000      -0.186      -0.096\n",
       "ma.L2         -0.2268      0.024     -9.635      0.000      -0.273      -0.181\n",
       "ma.L3         -0.2168      0.023     -9.251      0.000      -0.263      -0.171\n",
       "ma.L4         -0.1479      0.023     -6.491      0.000      -0.193      -0.103\n",
       "ma.L5         -0.0595      0.024     -2.438      0.015      -0.107      -0.012\n",
       "sigma2         5.5093      0.174     31.624      0.000       5.168       5.851\n",
       "===================================================================================\n",
       "Ljung-Box (L1) (Q):                   0.00   Jarque-Bera (JB):                14.88\n",
       "Prob(Q):                              0.97   Prob(JB):                         0.00\n",
       "Heteroskedasticity (H):               0.82   Skew:                            -0.15\n",
       "Prob(H) (two-sided):                  0.01   Kurtosis:                         3.33\n",
       "===================================================================================\n",
       "\n",
       "Warnings:\n",
       "[1] Covariance matrix calculated using the outer product of gradients (complex-step).\n",
       "\"\"\""
      ]
     },
     "execution_count": 16,
     "metadata": {},
     "output_type": "execute_result"
    }
   ],
   "source": [
    "model3=ARIMA(train['AvgTemp'],order=(1,0,5))\n",
    "model3_fit=model3.fit()\n",
    "model3_fit.summary()"
   ]
  },
  {
   "cell_type": "code",
   "execution_count": 17,
   "id": "b5ae073e",
   "metadata": {
    "execution": {
     "iopub.execute_input": "2024-03-19T13:40:25.626183Z",
     "iopub.status.busy": "2024-03-19T13:40:25.625797Z",
     "iopub.status.idle": "2024-03-19T13:40:26.068150Z",
     "shell.execute_reply": "2024-03-19T13:40:26.067026Z"
    },
    "papermill": {
     "duration": 0.462329,
     "end_time": "2024-03-19T13:40:26.071035",
     "exception": false,
     "start_time": "2024-03-19T13:40:25.608706",
     "status": "completed"
    },
    "tags": []
   },
   "outputs": [
    {
     "name": "stdout",
     "output_type": "stream",
     "text": [
      "Actual Average Temperature:\n",
      "DATE\n",
      "2018-12-01    44.0\n",
      "2018-12-02    42.0\n",
      "2018-12-03    45.0\n",
      "2018-12-04    48.0\n",
      "2018-12-05    45.0\n",
      "2018-12-06    44.0\n",
      "2018-12-07    45.0\n",
      "2018-12-08    44.0\n",
      "2018-12-09    45.0\n",
      "2018-12-10    46.0\n",
      "2018-12-11    47.0\n",
      "2018-12-12    47.0\n",
      "2018-12-13    45.0\n",
      "2018-12-14    46.0\n",
      "2018-12-15    47.0\n",
      "2018-12-16    49.0\n",
      "2018-12-17    51.0\n",
      "2018-12-18    43.0\n",
      "2018-12-19    42.0\n",
      "2018-12-20    48.0\n",
      "2018-12-21    50.0\n",
      "2018-12-22    47.0\n",
      "2018-12-23    47.0\n",
      "2018-12-24    44.0\n",
      "2018-12-25    42.0\n",
      "2018-12-26    40.0\n",
      "2018-12-27    39.0\n",
      "2018-12-28    40.0\n",
      "2018-12-29    42.0\n",
      "2018-12-30    46.0\n",
      "Name: AvgTemp, dtype: float64\n",
      "\n",
      "Predicted Average Temperature:\n",
      "2018-12-01    44.754109\n",
      "2018-12-02    44.987795\n",
      "2018-12-03    45.388741\n",
      "2018-12-04    45.721545\n",
      "2018-12-05    45.863733\n",
      "2018-12-06    45.874126\n",
      "2018-12-07    45.884370\n",
      "2018-12-08    45.894466\n",
      "2018-12-09    45.904417\n",
      "2018-12-10    45.914225\n",
      "2018-12-11    45.923891\n",
      "2018-12-12    45.933419\n",
      "2018-12-13    45.942809\n",
      "2018-12-14    45.952064\n",
      "2018-12-15    45.961185\n",
      "2018-12-16    45.970175\n",
      "2018-12-17    45.979036\n",
      "2018-12-18    45.987770\n",
      "2018-12-19    45.996377\n",
      "2018-12-20    46.004861\n",
      "2018-12-21    46.013222\n",
      "2018-12-22    46.021463\n",
      "2018-12-23    46.029586\n",
      "2018-12-24    46.037591\n",
      "2018-12-25    46.045482\n",
      "2018-12-26    46.053258\n",
      "2018-12-27    46.060923\n",
      "2018-12-28    46.068477\n",
      "2018-12-29    46.075923\n",
      "2018-12-30    46.083261\n",
      "Freq: D, Name: ARIMA predictions, dtype: float64\n"
     ]
    },
    {
     "data": {
      "image/png": "[encoded data removed]",
      "text/plain": [
       "<Figure size 640x480 with 1 Axes>"
      ]
     },
     "metadata": {},
     "output_type": "display_data"
    }
   ],
   "source": [
    "# Define the start and end points for prediction\n",
    "start = len(train)\n",
    "end = len(train) + len(test) - 1\n",
    "\n",
    "# Forecast\n",
    "pred = model3_fit.predict(start=start, end=end, typ='levels').rename('ARIMA predictions')\n",
    "\n",
    "# If the predicted values don't have date values as index, uncomment the following lines\n",
    "index_future_dates = pd.date_range(start='2018-12-01', end='2018-12-30')\n",
    "pred.index = index_future_dates\n",
    "\n",
    "# Plot the predictions and the actual values\n",
    "pred.plot(legend=True)\n",
    "test['AvgTemp'].plot(legend=True)\n",
    "\n",
    "# Print the actual and predicted values for comparison\n",
    "print(\"Actual Average Temperature:\")\n",
    "print(test['AvgTemp'])\n",
    "print(\"\\nPredicted Average Temperature:\")\n",
    "print(pred)"
   ]
  },
  {
   "cell_type": "code",
   "execution_count": 18,
   "id": "fd820a89",
   "metadata": {
    "execution": {
     "iopub.execute_input": "2024-03-19T13:40:26.105758Z",
     "iopub.status.busy": "2024-03-19T13:40:26.105356Z",
     "iopub.status.idle": "2024-03-19T13:40:26.124619Z",
     "shell.execute_reply": "2024-03-19T13:40:26.123002Z"
    },
    "papermill": {
     "duration": 0.039559,
     "end_time": "2024-03-19T13:40:26.127062",
     "exception": false,
     "start_time": "2024-03-19T13:40:26.087503",
     "status": "completed"
    },
    "tags": []
   },
   "outputs": [
    {
     "name": "stdout",
     "output_type": "stream",
     "text": [
      "2018-12-30    46.090494\n",
      "2018-12-31    46.097622\n",
      "2019-01-01    46.104648\n",
      "2019-01-02    46.111573\n",
      "2019-01-03    46.118398\n",
      "2019-01-04    46.125125\n",
      "2019-01-05    46.131755\n",
      "2019-01-06    46.138289\n",
      "2019-01-07    46.144730\n",
      "2019-01-08    46.151077\n",
      "2019-01-09    46.157334\n",
      "2019-01-10    46.163500\n",
      "2019-01-11    46.169577\n",
      "2019-01-12    46.175567\n",
      "2019-01-13    46.181471\n",
      "2019-01-14    46.187290\n",
      "2019-01-15    46.193024\n",
      "2019-01-16    46.198677\n",
      "2019-01-17    46.204248\n",
      "2019-01-18    46.209738\n",
      "2019-01-19    46.215150\n",
      "2019-01-20    46.220484\n",
      "2019-01-21    46.225741\n",
      "2019-01-22    46.230922\n",
      "2019-01-23    46.236029\n",
      "2019-01-24    46.241062\n",
      "2019-01-25    46.246023\n",
      "2019-01-26    46.250912\n",
      "2019-01-27    46.255731\n",
      "2019-01-28    46.260480\n",
      "2019-01-29    46.265162\n",
      "Freq: D, Name: ARIMA Predictions, dtype: float64\n"
     ]
    }
   ],
   "source": [
    "index_future_dates=pd.date_range(start='2018-12-30',end='2019-01-29')\n",
    "#print(index_future_dates)\n",
    "pred=model3_fit.predict(start=len(df),end=len(df)+30,typ='levels').rename('ARIMA Predictions')\n",
    "#print(comp_pred)\n",
    "pred.index=index_future_dates\n",
    "print(pred)"
   ]
  }
 ],
 "metadata": {
  "kaggle": {
   "accelerator": "none",
   "dataSources": [
    {
     "datasetId": 3220297,
     "sourceId": 5597928,
     "sourceType": "datasetVersion"
    }
   ],
   "dockerImageVersionId": 30635,
   "isGpuEnabled": false,
   "isInternetEnabled": true,
   "language": "python",
   "sourceType": "notebook"
  },
  "kernelspec": {
   "display_name": "Python 3",
   "language": "python",
   "name": "python3"
  },
  "language_info": {
   "codemirror_mode": {
    "name": "ipython",
    "version": 3
   },
   "file_extension": ".py",
   "mimetype": "text/x-python",
   "name": "python",
   "nbconvert_exporter": "python",
   "pygments_lexer": "ipython3",
   "version": "3.10.12"
  },
  "papermill": {
   "default_parameters": {},
   "duration": 133.419805,
   "end_time": "2024-03-19T13:40:26.866008",
   "environment_variables": {},
   "exception": null,
   "input_path": "__notebook__.ipynb",
   "output_path": "__notebook__.ipynb",
   "parameters": {},
   "start_time": "2024-03-19T13:38:13.446203",
   "version": "2.4.0"
  }
 },
 "nbformat": 4,
 "nbformat_minor": 5
}
